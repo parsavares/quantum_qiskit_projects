{
 "cells": [
  {
   "cell_type": "markdown",
   "id": "23307578-3a06-4de2-8a7f-f53ccad6d9be",
   "metadata": {},
   "source": [
    "# Entanglement in Action"
   ]
  },
  {
   "cell_type": "markdown",
   "id": "3b0426ae-d163-493d-812c-84458174fd64",
   "metadata": {},
   "source": [
    "# Superdense Coding"
   ]
  },
  {
   "cell_type": "code",
   "execution_count": 2,
   "id": "8313c6ab-b0d1-42f1-8283-1ca6513344c5",
   "metadata": {},
   "outputs": [
    {
     "name": "stdout",
     "output_type": "stream",
     "text": [
      "Requirement already satisfied: qiskit[visualization] in /opt/.qbraid/environments/qbraid_000000/pyenv/lib/python3.11/site-packages (1.2.4)\n",
      "Requirement already satisfied: rustworkx>=0.15.0 in /opt/.qbraid/environments/qbraid_000000/pyenv/lib/python3.11/site-packages (from qiskit[visualization]) (0.15.1)\n",
      "Requirement already satisfied: numpy<3,>=1.17 in /opt/conda/lib/python3.11/site-packages (from qiskit[visualization]) (1.26.4)\n",
      "Requirement already satisfied: scipy>=1.5 in /opt/.qbraid/environments/qbraid_000000/pyenv/lib/python3.11/site-packages (from qiskit[visualization]) (1.14.1)\n",
      "Requirement already satisfied: sympy>=1.3 in /opt/.qbraid/environments/qbraid_000000/pyenv/lib/python3.11/site-packages (from qiskit[visualization]) (1.13.3)\n",
      "Requirement already satisfied: dill>=0.3 in /opt/.qbraid/environments/qbraid_000000/pyenv/lib/python3.11/site-packages (from qiskit[visualization]) (0.3.9)\n",
      "Requirement already satisfied: python-dateutil>=2.8.0 in /opt/conda/lib/python3.11/site-packages (from qiskit[visualization]) (2.9.0)\n",
      "Requirement already satisfied: stevedore>=3.0.0 in /opt/.qbraid/environments/qbraid_000000/pyenv/lib/python3.11/site-packages (from qiskit[visualization]) (5.3.0)\n",
      "Requirement already satisfied: typing-extensions in /opt/conda/lib/python3.11/site-packages (from qiskit[visualization]) (4.11.0)\n",
      "Requirement already satisfied: symengine<0.14,>=0.11 in /opt/.qbraid/environments/qbraid_000000/pyenv/lib/python3.11/site-packages (from qiskit[visualization]) (0.13.0)\n",
      "Requirement already satisfied: matplotlib>=3.3 in /opt/conda/lib/python3.11/site-packages (from qiskit[visualization]) (3.9.2)\n",
      "Requirement already satisfied: pydot in /opt/.qbraid/environments/qbraid_000000/pyenv/lib/python3.11/site-packages (from qiskit[visualization]) (3.0.2)\n",
      "Requirement already satisfied: Pillow>=4.2.1 in /opt/conda/lib/python3.11/site-packages (from qiskit[visualization]) (11.0.0)\n",
      "Requirement already satisfied: pylatexenc>=1.4 in /opt/.qbraid/environments/qbraid_000000/pyenv/lib/python3.11/site-packages (from qiskit[visualization]) (2.10)\n",
      "Requirement already satisfied: seaborn>=0.9.0 in /opt/.qbraid/environments/qbraid_000000/pyenv/lib/python3.11/site-packages (from qiskit[visualization]) (0.13.2)\n",
      "Requirement already satisfied: contourpy>=1.0.1 in /opt/conda/lib/python3.11/site-packages (from matplotlib>=3.3->qiskit[visualization]) (1.3.0)\n",
      "Requirement already satisfied: cycler>=0.10 in /opt/conda/lib/python3.11/site-packages (from matplotlib>=3.3->qiskit[visualization]) (0.12.1)\n",
      "Requirement already satisfied: fonttools>=4.22.0 in /opt/conda/lib/python3.11/site-packages (from matplotlib>=3.3->qiskit[visualization]) (4.54.1)\n",
      "Requirement already satisfied: kiwisolver>=1.3.1 in /opt/conda/lib/python3.11/site-packages (from matplotlib>=3.3->qiskit[visualization]) (1.4.7)\n",
      "Requirement already satisfied: packaging>=20.0 in /opt/conda/lib/python3.11/site-packages (from matplotlib>=3.3->qiskit[visualization]) (24.0)\n",
      "Requirement already satisfied: pyparsing>=2.3.1 in /opt/conda/lib/python3.11/site-packages (from matplotlib>=3.3->qiskit[visualization]) (3.2.0)\n",
      "Requirement already satisfied: six>=1.5 in /opt/conda/lib/python3.11/site-packages (from python-dateutil>=2.8.0->qiskit[visualization]) (1.16.0)\n",
      "Requirement already satisfied: pandas>=1.2 in /opt/conda/lib/python3.11/site-packages (from seaborn>=0.9.0->qiskit[visualization]) (2.2.3)\n",
      "Requirement already satisfied: pbr>=2.0.0 in /opt/.qbraid/environments/qbraid_000000/pyenv/lib/python3.11/site-packages (from stevedore>=3.0.0->qiskit[visualization]) (6.1.0)\n",
      "Requirement already satisfied: mpmath<1.4,>=1.1.0 in /opt/.qbraid/environments/qbraid_000000/pyenv/lib/python3.11/site-packages (from sympy>=1.3->qiskit[visualization]) (1.3.0)\n",
      "Requirement already satisfied: pytz>=2020.1 in /opt/conda/lib/python3.11/site-packages (from pandas>=1.2->seaborn>=0.9.0->qiskit[visualization]) (2024.1)\n",
      "Requirement already satisfied: tzdata>=2022.7 in /opt/conda/lib/python3.11/site-packages (from pandas>=1.2->seaborn>=0.9.0->qiskit[visualization]) (2024.2)\n",
      "Note: you may need to restart the kernel to use updated packages.\n"
     ]
    }
   ],
   "source": [
    "%pip install qiskit[visualization]"
   ]
  },
  {
   "cell_type": "code",
   "execution_count": 3,
   "id": "ceb61e3c-847c-483f-888d-a72b764f8d73",
   "metadata": {},
   "outputs": [
    {
     "name": "stdout",
     "output_type": "stream",
     "text": [
      "Requirement already satisfied: qiskit_aer in /opt/.qbraid/environments/qbraid_000000/pyenv/lib/python3.11/site-packages (0.15.1)\n",
      "Requirement already satisfied: qiskit>=1.1.0 in /opt/.qbraid/environments/qbraid_000000/pyenv/lib/python3.11/site-packages (from qiskit_aer) (1.2.4)\n",
      "Requirement already satisfied: numpy>=1.16.3 in /opt/conda/lib/python3.11/site-packages (from qiskit_aer) (1.26.4)\n",
      "Requirement already satisfied: scipy>=1.0 in /opt/.qbraid/environments/qbraid_000000/pyenv/lib/python3.11/site-packages (from qiskit_aer) (1.14.1)\n",
      "Requirement already satisfied: psutil>=5 in /opt/conda/lib/python3.11/site-packages (from qiskit_aer) (5.9.8)\n",
      "Requirement already satisfied: rustworkx>=0.15.0 in /opt/.qbraid/environments/qbraid_000000/pyenv/lib/python3.11/site-packages (from qiskit>=1.1.0->qiskit_aer) (0.15.1)\n",
      "Requirement already satisfied: sympy>=1.3 in /opt/.qbraid/environments/qbraid_000000/pyenv/lib/python3.11/site-packages (from qiskit>=1.1.0->qiskit_aer) (1.13.3)\n",
      "Requirement already satisfied: dill>=0.3 in /opt/.qbraid/environments/qbraid_000000/pyenv/lib/python3.11/site-packages (from qiskit>=1.1.0->qiskit_aer) (0.3.9)\n",
      "Requirement already satisfied: python-dateutil>=2.8.0 in /opt/conda/lib/python3.11/site-packages (from qiskit>=1.1.0->qiskit_aer) (2.9.0)\n",
      "Requirement already satisfied: stevedore>=3.0.0 in /opt/.qbraid/environments/qbraid_000000/pyenv/lib/python3.11/site-packages (from qiskit>=1.1.0->qiskit_aer) (5.3.0)\n",
      "Requirement already satisfied: typing-extensions in /opt/conda/lib/python3.11/site-packages (from qiskit>=1.1.0->qiskit_aer) (4.11.0)\n",
      "Requirement already satisfied: symengine<0.14,>=0.11 in /opt/.qbraid/environments/qbraid_000000/pyenv/lib/python3.11/site-packages (from qiskit>=1.1.0->qiskit_aer) (0.13.0)\n",
      "Requirement already satisfied: six>=1.5 in /opt/conda/lib/python3.11/site-packages (from python-dateutil>=2.8.0->qiskit>=1.1.0->qiskit_aer) (1.16.0)\n",
      "Requirement already satisfied: pbr>=2.0.0 in /opt/.qbraid/environments/qbraid_000000/pyenv/lib/python3.11/site-packages (from stevedore>=3.0.0->qiskit>=1.1.0->qiskit_aer) (6.1.0)\n",
      "Requirement already satisfied: mpmath<1.4,>=1.1.0 in /opt/.qbraid/environments/qbraid_000000/pyenv/lib/python3.11/site-packages (from sympy>=1.3->qiskit>=1.1.0->qiskit_aer) (1.3.0)\n",
      "Note: you may need to restart the kernel to use updated packages.\n"
     ]
    }
   ],
   "source": [
    "%pip install qiskit_aer"
   ]
  },
  {
   "cell_type": "code",
   "execution_count": 4,
   "id": "75564919-d6d1-42a7-8dfd-f5ba7038be86",
   "metadata": {},
   "outputs": [],
   "source": [
    "# Required imports\n",
    "from qiskit import QuantumCircuit, QuantumRegister, ClassicalRegister\n",
    "from qiskit_aer.primitives import Sampler\n",
    "from qiskit_aer import AerSimulator\n",
    "from qiskit.visualization import plot_histogram"
   ]
  },
  {
   "cell_type": "markdown",
   "id": "0bb1b745-870d-4591-93d0-a17f6c18f971",
   "metadata": {},
   "source": [
    "Here is a simple implementation of superdense coding where we specify the circuit itself depending on the bits to be transmitted. First let's specify the bits to be transmitted. (Try changing the bits to see that it works correctly.)"
   ]
  },
  {
   "cell_type": "code",
   "execution_count": 5,
   "id": "d8c1ed00-3d16-4cdc-848a-5756dfe9b50b",
   "metadata": {},
   "outputs": [],
   "source": [
    "c = \"1\"\n",
    "d = \"0\""
   ]
  },
  {
   "cell_type": "markdown",
   "id": "4fbf96dd-cb43-4fc6-8848-268a790000df",
   "metadata": {},
   "source": [
    "Now we'll build the circuit accordingly. Here we'll just allow Qiskit to use the default names for the qubits: \n",
    "q0 for the top qubit and q1 for the bottom one."
   ]
  },
  {
   "cell_type": "code",
   "execution_count": 6,
   "id": "09b0f06d-51fa-44bf-a5d1-c8a35cab2b0f",
   "metadata": {},
   "outputs": [
    {
     "data": {
      "image/png": "[encoded data removed]",
      "text/plain": [
       "<Figure size 998.442x284.278 with 1 Axes>"
      ]
     },
     "metadata": {},
     "output_type": "display_data"
    }
   ],
   "source": [
    "protocol = QuantumCircuit(2)\n",
    "\n",
    "# Prepare ebit used for superdense coding\n",
    "# Replace the ? \n",
    "protocol.h(0)           # Apply Hadamard gate on the first qubit (q0)\n",
    "protocol.cx(0, 1)       # Apply CNOT gate with q0 as control and q1 as target\n",
    "protocol.barrier()\n",
    "\n",
    "# Alice's operations\n",
    "if d == \"1\":\n",
    "    protocol.x(0)       # Apply X gate if d is 1\n",
    "if c == \"1\":\n",
    "    protocol.z(0)       # Apply Z gate if c is 1\n",
    "protocol.barrier()\n",
    "\n",
    "# Bob's actions\n",
    "protocol.cx(0, 1)       # Apply CNOT with q0 as control and q1 as target\n",
    "protocol.h(0)           # Apply Hadamard on q0\n",
    "protocol.measure_all()\n",
    "\n",
    "display(protocol.draw('mpl'))"
   ]
  },
  {
   "cell_type": "markdown",
   "id": "138ea60c-29be-4da2-90c4-1f86f28bfb27",
   "metadata": {},
   "source": [
    "Remark the `measure_all` function, which measures all of the qubits and puts the results into a single classical register (therefore having two bits in this case).\n",
    "\n",
    "Running the Aer simulator produces the expected output."
   ]
  },
  {
   "cell_type": "code",
   "execution_count": 7,
   "id": "d61fea30-d56f-4c9d-b468-eb6bbcc8e4f7",
   "metadata": {},
   "outputs": [
    {
     "name": "stdout",
     "output_type": "stream",
     "text": [
      "Measured 01 with frequency 1.0\n"
     ]
    },
    {
     "data": {
      "image/png": "[encoded data removed]",
      "text/plain": [
       "<Figure size 640x480 with 1 Axes>"
      ]
     },
     "metadata": {},
     "output_type": "display_data"
    }
   ],
   "source": [
    "# Replace ? \n",
    "result = Sampler().run(protocol).result()\n",
    "statistics = result.quasi_dists[0].binary_probabilities()\n",
    "\n",
    "for outcome, frequency in statistics.items():\n",
    "    print(f\"Measured {outcome} with frequency {frequency}\")\n",
    "\n",
    "display(plot_histogram(statistics))"
   ]
  },
  {
   "cell_type": "markdown",
   "id": "a55e779b-62f8-4a5b-9e36-2b449835ed7c",
   "metadata": {},
   "source": [
    "Just for fun, we can use an additional qubit as a random bit generator to randomly choose \n",
    "c and d, then run the superdense coding protocol to see that these bits are transmitted correctly."
   ]
  },
  {
   "cell_type": "code",
   "execution_count": null,
   "id": "aaddb3fc-3b31-46b3-967d-ffae24760af5",
   "metadata": {},
   "outputs": [],
   "source": [
    "rbg = QuantumRegister(1, \"randomizer\")\n",
    "ebit0 = QuantumRegister(1, \"A\")\n",
    "ebit1 = QuantumRegister(1, \"B\")\n",
    "\n",
    "Alice_c = ClassicalRegister(1, \"Alice c\")\n",
    "Alice_d = ClassicalRegister(1, \"Alice d\")\n",
    "\n",
    "test = QuantumCircuit(rbg, ebit0, ebit1, Alice_d, Alice_c)\n",
    "\n",
    "# Initialize the ebit\n",
    "# Replace ?\n",
    "test.h(ebit0)           # Prepare entanglement\n",
    "test.cx(ebit0, ebit1)   # Create entanglement between Alice's and Bob's qubits\n",
    "test.barrier()\n",
    "\n",
    "# Use the 'randomizer' qubit twice to generate Alice's bits c and d.\n",
    "# Use the Hadamard Gate to create the random bit, with a measurement.\n",
    "# Replace ?\n",
    "test.h(rbg)\n",
    "test.measure(rbg, Alice_c)# Measure for Alice's c bit\n",
    "test.h(rbg)# Reapply Hadamard to create another random bit\n",
    "test.measure(rbg, Alice_d)# Measure for Alice's d bit\n",
    "test.barrier()\n",
    "\n",
    "# Now the protocol runs, starting with Alice's actions, which depend\n",
    "# on her bits.\n",
    "# Replace ?\n",
    "with test.if_test((Alice_d, 1), label=\"Z\"):\n",
    "    test.z(ebit0)# Apply Z gate if Alice's d is 1\n",
    "with test.if_test((Alice_c, 1), label=\"X\"):\n",
    "    test.x(ebit0)# Apply X gate if Alice's c is 1\n",
    "test.barrier()\n",
    "\n",
    "# Bob's actions\n",
    "# Replace \n",
    "test.cx(?????, ?????)\n",
    "test.h(?????)\n",
    "test.barrier()\n",
    "\n",
    "Bob_c = ClassicalRegister(1, \"Bob c\")\n",
    "Bob_d = ClassicalRegister(1, \"Bob d\")\n",
    "test.add_register(Bob_d)\n",
    "test.add_register(Bob_c)\n",
    "test.measure(?????, ?????)\n",
    "test.measure(?????, ?????)\n",
    "\n",
    "display(test.draw('mpl'))"
   ]
  },
  {
   "cell_type": "markdown",
   "id": "48321795-5eab-4a0e-a4b5-f1da18296dbc",
   "metadata": {},
   "source": [
    "Running the Aer simulator shows the results: Alice and Bob's classical bits always agree."
   ]
  },
  {
   "cell_type": "code",
   "execution_count": null,
   "id": "2f932cfc-1f02-4e7e-a5d7-553e5e2d72af",
   "metadata": {},
   "outputs": [],
   "source": [
    "# Replace ? \n",
    "result = AerSimulator().run(test).result()\n",
    "statistics = result.get_counts()\n",
    "display(plot_histogram(?))"
   ]
  },
  {
   "cell_type": "markdown",
   "id": "57ab8e90-9a12-42e5-94ce-26a52e6eb72b",
   "metadata": {},
   "source": [
    "# End of Notebook"
   ]
  }
 ],
 "metadata": {
  "kernelspec": {
   "display_name": "Python 3 [Default]",
   "language": "python",
   "name": "python3"
  },
  "language_info": {
   "codemirror_mode": {
    "name": "ipython",
    "version": 3
   },
   "file_extension": ".py",
   "mimetype": "text/x-python",
   "name": "python",
   "nbconvert_exporter": "python",
   "pygments_lexer": "ipython3",
   "version": "3.11.9"
  }
 },
 "nbformat": 4,
 "nbformat_minor": 5
}
