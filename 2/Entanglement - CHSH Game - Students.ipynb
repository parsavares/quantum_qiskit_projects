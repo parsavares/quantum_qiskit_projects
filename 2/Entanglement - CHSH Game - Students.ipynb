{
 "cells": [
  {
   "cell_type": "markdown",
   "id": "23307578-3a06-4de2-8a7f-f53ccad6d9be",
   "metadata": {},
   "source": [
    "# Entanglement in Action"
   ]
  },
  {
   "cell_type": "markdown",
   "id": "49954df1-ab32-48fb-88b9-a854847c0514",
   "metadata": {},
   "source": [
    "# CHSH Game"
   ]
  },
  {
   "cell_type": "code",
   "execution_count": null,
   "id": "8313c6ab-b0d1-42f1-8283-1ca6513344c5",
   "metadata": {},
   "outputs": [],
   "source": [
    "%pip install qiskit[visualization]"
   ]
  },
  {
   "cell_type": "code",
   "execution_count": null,
   "id": "2d392a2b-4904-4c8d-a800-3f8296ab9f55",
   "metadata": {
    "scrolled": true
   },
   "outputs": [],
   "source": [
    "%pip install qiskit_aer"
   ]
  },
  {
   "cell_type": "code",
   "execution_count": null,
   "id": "75564919-d6d1-42a7-8dfd-f5ba7038be86",
   "metadata": {},
   "outputs": [],
   "source": [
    "# Required imports\n",
    "from qiskit import QuantumCircuit\n",
    "from qiskit_aer.primitives import Sampler\n",
    "from numpy import pi\n",
    "from numpy.random import randint"
   ]
  },
  {
   "cell_type": "markdown",
   "id": "8ec65fc7-c267-4143-8f03-a96ba26c7958",
   "metadata": {},
   "source": [
    "We can implement the CHSH game together with the quantum strategy defined above in Qiskit as follows.\n",
    "\n",
    "First, here's the definition of the game itself, which allows an arbitrary strategy to be plugged in as an argument."
   ]
  },
  {
   "cell_type": "code",
   "execution_count": null,
   "id": "7a740b94-1836-4bbf-822a-ce07bc2aa133",
   "metadata": {},
   "outputs": [],
   "source": [
    "def chsh_game(strategy):\n",
    "    \"\"\"Plays the CHSH game\n",
    "    Args:\n",
    "        strategy (callable): A function that takes two bits (as `int`s) and\n",
    "            returns two bits (also as `int`s). The strategy must follow the\n",
    "            rules of the CHSH game.\n",
    "    Returns:\n",
    "        int: 1 for a win, 0 for a loss.\n",
    "    \"\"\"\n",
    "    # Referee chooses x and y randomly\n",
    "    x, y = randint(0, 2), randint(0, 2)\n",
    "\n",
    "    # Use strategy to choose a and b\n",
    "    a, b = strategy(x, y)\n",
    "\n",
    "    # Referee decides if Alice and Bob win or lose\n",
    "    if (a != b) == (x & y):\n",
    "        return 1  # Win\n",
    "    return 0  # Lose"
   ]
  },
  {
   "cell_type": "markdown",
   "id": "1afcb28b-bc29-4924-a93a-0b6bc5bf118b",
   "metadata": {},
   "source": [
    "Now we'll create a function that outputs a circuit depending on the questions for Alice and Bob. We'll let the qubits have their default names for simplicity, and we'll use the built-in \n",
    "Ry(θ) gate for Alice and Bob's actions."
   ]
  },
  {
   "cell_type": "code",
   "execution_count": null,
   "id": "601a4dd6-818f-44d0-9b32-2eb39f0f39b5",
   "metadata": {},
   "outputs": [],
   "source": [
    "def chsh_circuit(x, y):\n",
    "    \"\"\"Creates a `QuantumCircuit` that implements the best CHSH strategy.\n",
    "    Args:\n",
    "        x (int): Alice's bit (must be 0 or 1)\n",
    "        y (int): Bob's bit (must be 0 or 1)\n",
    "    Returns:\n",
    "        QuantumCircuit: Circuit that, when run, returns Alice and Bob's\n",
    "            answer bits.\n",
    "    \"\"\"\n",
    "    # Replace ?\n",
    "    qc = QuantumCircuit(2, 2)\n",
    "    ?\n",
    "    ?\n",
    "    qc.barrier()\n",
    "\n",
    "    # Alice\n",
    "    if x == 0:\n",
    "        ?\n",
    "    else:\n",
    "        ?\n",
    "    qc.measure(0, 0)\n",
    "\n",
    "    # Bob\n",
    "    if y == 0:\n",
    "        ?\n",
    "    else:\n",
    "        ?\n",
    "    qc.measure(1, 1)\n",
    "\n",
    "    return qc"
   ]
  },
  {
   "cell_type": "markdown",
   "id": "ef7558ac-8818-4d4e-bd7f-f0465b3c2d3e",
   "metadata": {},
   "source": [
    "Here are the four possible circuits, depending on which questions are asked."
   ]
  },
  {
   "cell_type": "code",
   "execution_count": null,
   "id": "dd9c30d9-5311-4fbf-8a0b-3489dd1fe71f",
   "metadata": {},
   "outputs": [],
   "source": [
    "# Draw the four possible circuits\n",
    "# Replace the ?\n",
    "\n",
    "print(\"(x,y) = (0,0)\")\n",
    "display(chsh_circuit(0, 0).draw('mpl'))\n",
    "\n",
    "print(\"(x,y) = (0,1)\")\n",
    "?\n",
    "\n",
    "print(\"(x,y) = (1,0)\")\n",
    "?\n",
    "\n",
    "print(\"(x,y) = (1,1)\")\n",
    "?"
   ]
  },
  {
   "cell_type": "markdown",
   "id": "7d74dcef-b741-4794-83db-838a4a5b1c12",
   "metadata": {},
   "source": [
    "Now we'll create a job using the Aer simulator that runs the circuit a single time for a given input pair \n",
    "(x,y)."
   ]
  },
  {
   "cell_type": "code",
   "execution_count": null,
   "id": "23c3440c-0818-4f7e-9480-7bb430beb85b",
   "metadata": {},
   "outputs": [],
   "source": [
    "sampler = Sampler()\n",
    "\n",
    "def quantum_strategy(x, y):\n",
    "    \"\"\"Carry out the best strategy for the CHSH game.\n",
    "    Args:\n",
    "        x (int): Alice's bit (must be 0 or 1)\n",
    "        y (int): Bob's bit (must be 0 or 1)\n",
    "    Returns:\n",
    "        (int, int): Alice and Bob's answer bits (respectively)\n",
    "    \"\"\"\n",
    "    # Replace ?\n",
    "    # `shots=1` runs the circuit once\n",
    "    result = sampler.run(????????????(x, y), shots=1).result()\n",
    "    statistics = ??????.quasi_dists[0].binary_probabilities()\n",
    "    bits = list(statistics.keys())[0]\n",
    "    a, b = bits[0], bits[1]\n",
    "    return a, b"
   ]
  },
  {
   "cell_type": "markdown",
   "id": "b3802bc4-a451-4442-9221-fdb38e98bef1",
   "metadata": {},
   "source": [
    "Finally, we'll play the game 1,000 times and compute the fraction of them that the strategy wins."
   ]
  },
  {
   "cell_type": "code",
   "execution_count": null,
   "id": "054a86b1-f0db-47bc-839e-b9ecba1ed8bb",
   "metadata": {},
   "outputs": [],
   "source": [
    "# Replace ? \n",
    "NUM_GAMES = 1000\n",
    "TOTAL_SCORE = 0\n",
    "\n",
    "for _ in range(NUM_GAMES):\n",
    "    TOTAL_SCORE += chsh_game(?)\n",
    "\n",
    "print(\"Fraction of games won:\", TOTAL_SCORE / NUM_GAMES)"
   ]
  },
  {
   "cell_type": "markdown",
   "id": "718b3108-3837-441b-a6d7-5e6c8bff14a4",
   "metadata": {},
   "source": [
    "We can also define a classical strategy and see how well it works. Feel free to change the code to try out different strategies!"
   ]
  },
  {
   "cell_type": "code",
   "execution_count": null,
   "id": "3ebff9a3-1f33-49cd-b459-802f4d12f2e1",
   "metadata": {},
   "outputs": [],
   "source": [
    "def classical_strategy(x, y):\n",
    "    \"\"\"An optimal classical strategy for the CHSH game\n",
    "    Args:\n",
    "        x (int): Alice's bit (must be 0 or 1)\n",
    "        y (int): Bob's bit (must be 0 or 1)\n",
    "    Returns:\n",
    "        (int, int): Alice and Bob's answer bits (respectively)\n",
    "    \"\"\"\n",
    "    # Alice's answer\n",
    "    if x == 0:\n",
    "        a = 0\n",
    "    elif x == 1:\n",
    "        a = 1\n",
    "\n",
    "    # Bob's answer\n",
    "    if y == 0:\n",
    "        b = 1\n",
    "    elif y == 1:\n",
    "        b = 0\n",
    "\n",
    "    return a, b"
   ]
  },
  {
   "cell_type": "markdown",
   "id": "6faef0df-ce03-4a15-aefc-3419b6a7c86b",
   "metadata": {},
   "source": [
    "Again let's play the game 1,000 times to see how well it works."
   ]
  },
  {
   "cell_type": "code",
   "execution_count": null,
   "id": "34c42e7f-2c17-4b3d-9ffc-e08155510ea8",
   "metadata": {},
   "outputs": [],
   "source": [
    "# Replace ?\n",
    "NUM_GAMES = 1000\n",
    "TOTAL_SCORE = 0\n",
    "\n",
    "for _ in range(NUM_GAMES):\n",
    "    TOTAL_SCORE += chsh_game(?)\n",
    "\n",
    "print(\"Fraction of games won:\", ? / ?)"
   ]
  },
  {
   "cell_type": "markdown",
   "id": "0c1ab43e-2c68-4131-9b79-10aa66590074",
   "metadata": {},
   "source": [
    "Although there's randomness involved, the statistics are very unlikely to deviate too much after 1,000 runs. The quantum strategy wins about 85% of the time while a classical strategy can't win more than about 75% of the time."
   ]
  },
  {
   "cell_type": "markdown",
   "id": "57ab8e90-9a12-42e5-94ce-26a52e6eb72b",
   "metadata": {},
   "source": [
    "# End of Notebook"
   ]
  }
 ],
 "metadata": {
  "kernelspec": {
   "display_name": "Python 3 [Default]",
   "language": "python",
   "name": "python3"
  },
  "language_info": {
   "codemirror_mode": {
    "name": "ipython",
    "version": 3
   },
   "file_extension": ".py",
   "mimetype": "text/x-python",
   "name": "python",
   "nbconvert_exporter": "python",
   "pygments_lexer": "ipython3",
   "version": "3.11.9"
  }
 },
 "nbformat": 4,
 "nbformat_minor": 5
}
