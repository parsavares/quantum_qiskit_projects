{
 "cells": [
  {
   "cell_type": "markdown",
   "id": "23307578-3a06-4de2-8a7f-f53ccad6d9be",
   "metadata": {},
   "source": [
    "# Entanglement in Action"
   ]
  },
  {
   "cell_type": "markdown",
   "id": "e5415867-9ce6-4e1c-8b6a-f0218c5d61fa",
   "metadata": {},
   "source": [
    "# Teleportation"
   ]
  },
  {
   "cell_type": "code",
   "execution_count": null,
   "id": "8313c6ab-b0d1-42f1-8283-1ca6513344c5",
   "metadata": {},
   "outputs": [],
   "source": [
    "%pip install qiskit[visualization]"
   ]
  },
  {
   "cell_type": "code",
   "execution_count": null,
   "id": "ceb61e3c-847c-483f-888d-a72b764f8d73",
   "metadata": {},
   "outputs": [],
   "source": [
    "%pip install qiskit_aer"
   ]
  },
  {
   "cell_type": "code",
   "execution_count": 3,
   "id": "75564919-d6d1-42a7-8dfd-f5ba7038be86",
   "metadata": {},
   "outputs": [],
   "source": [
    "# Required imports\n",
    "from qiskit import QuantumCircuit, QuantumRegister, ClassicalRegister\n",
    "from qiskit_aer import AerSimulator\n",
    "from qiskit.visualization import plot_histogram\n",
    "from qiskit.result import marginal_distribution\n",
    "from qiskit.circuit.library import UGate\n",
    "from numpy import pi, random"
   ]
  },
  {
   "cell_type": "markdown",
   "id": "a5f9c961-b77f-4b75-8a75-616f23687649",
   "metadata": {},
   "source": [
    "## Create the Protocol"
   ]
  },
  {
   "cell_type": "code",
   "execution_count": null,
   "id": "1a677eba-d6f3-4eff-b7c9-d5fbca287ebb",
   "metadata": {},
   "outputs": [],
   "source": [
    "qubit = QuantumRegister(1, \"Q\")\n",
    "ebit0 = QuantumRegister(1, \"A\")\n",
    "ebit1 = QuantumRegister(1, \"B\")\n",
    "a = ClassicalRegister(1, \"a\")\n",
    "b = ClassicalRegister(1, \"b\")\n",
    "\n",
    "protocol = QuantumCircuit(qubit, ebit0, ebit1, a, b)\n",
    "\n",
    "# Prepare ebit used for teleportation\n",
    "# Replace ?\n",
    "?\n",
    "protocol.barrier()\n",
    "\n",
    "# Alice's operations\n",
    "# Replace ?\n",
    "?\n",
    "protocol.barrier()\n",
    "\n",
    "# Alice measures and sends classical bits to Bob\n",
    "# Replace?\n",
    "?\n",
    "protocol.barrier()\n",
    "\n",
    "# Bob uses the classical bits to conditionally apply gates\n",
    "# Replace ? \n",
    "with protocol.if_test((a, 1)):\n",
    "    protocol.?(ebit1)\n",
    "with protocol.if_test((b, 1)):\n",
    "    protocol.?(ebit1)\n",
    "\n",
    "display(protocol.draw('mpl'))"
   ]
  },
  {
   "cell_type": "markdown",
   "id": "9c2f612f-e15c-4475-ac92-040f66ed55d8",
   "metadata": {},
   "source": [
    "The circuit makes use of a few features of Qiskit\n",
    "that require some explanations, including the barrier and if_test functions. \n",
    "The barrier function creates a visual separation making the circuit diagram more readable, \n",
    "and it also prevents Qiskit from performing various simplifications and optimizations across barriers \n",
    "during compilation when circuits are run on real hardware. \n",
    "The if_test function applies an operation conditionally depending on a classical bit or register.\n",
    "\n",
    "The circuit first initializes \n",
    "(A,B) to be in a \n",
    "∣ϕ+⟩\n",
    "state (which is not part of the protocol itself), \n",
    "followed by Alice's operations, then her measurements, and finally Bob's operations."
   ]
  },
  {
   "cell_type": "markdown",
   "id": "9589f9ff-eeb2-4e73-9108-3f70fada779e",
   "metadata": {},
   "source": [
    "## Test the Protocol"
   ]
  },
  {
   "cell_type": "markdown",
   "id": "42fe8b0c-9ace-4c45-8d8a-d95fb4e9e2cf",
   "metadata": {},
   "source": [
    "To test that the protocol works correctly, we'll apply a randomly generated single-qubit gate to the initialized \n",
    "∣0⟩ state of \n",
    "Q to obtain a random quantum state vector to be teleported. \n",
    "By applying the inverse (i.e., conjugate transpose) of that gate to \n",
    "B after the protocol is run, we can verify that the state was teleported by measuring to see that it has returned to the \n",
    "∣0⟩\n",
    "state.\n",
    "\n",
    "First we'll randomly choose a unitary qubit gate."
   ]
  },
  {
   "cell_type": "code",
   "execution_count": 5,
   "id": "7858ed16-e31b-407e-8d52-e8f0f012dcd5",
   "metadata": {},
   "outputs": [
    {
     "data": {
      "text/plain": [
       "array([[ 0.81711621+0.j        ,  0.56269614-0.1252763j ],\n",
       "       [-0.17140025+0.55040263j,  0.06760231-0.81431495j]])"
      ]
     },
     "metadata": {},
     "output_type": "display_data"
    }
   ],
   "source": [
    "random_gate = UGate(\n",
    "    theta=random.random() * 2 * pi,\n",
    "    phi=random.random() * 2 * pi,\n",
    "    lam=random.random() * 2 * pi,\n",
    ")\n",
    "\n",
    "display(random_gate.to_matrix())"
   ]
  },
  {
   "cell_type": "markdown",
   "id": "d583dbc3-7a52-4d39-b897-88d04d580b5c",
   "metadata": {},
   "source": [
    "Now we'll create a new testing circuit that first applies our random gate to \n",
    "Q, then runs the teleportation circuit, and finally applies the inverse of our random gate to the qubit \n",
    "B and measures. The outcome should be \n",
    "0 with certainty."
   ]
  },
  {
   "cell_type": "code",
   "execution_count": null,
   "id": "fde2c4f3-9f2e-470d-9515-3ef5402be114",
   "metadata": {},
   "outputs": [],
   "source": [
    "# Create a new circuit including the same bits and qubits used in the\n",
    "# teleportation protocol.\n",
    "\n",
    "test = QuantumCircuit(qubit, ebit0, ebit1, a, b)\n",
    "\n",
    "# Start with the randomly selected gate on Q\n",
    "# Replace ?\n",
    "\n",
    "test.append(???????????, qubit)\n",
    "test.barrier()\n",
    "\n",
    "# Append the entire teleportation protocol from above.\n",
    "# Replace ?\n",
    "\n",
    "test = test.compose(????????)\n",
    "test.barrier()\n",
    "\n",
    "# Finally, apply the inverse of the random unitary to B and measure.\n",
    "# Replace ?\n",
    "\n",
    "test.append(random_gate.inverse(), ebit1)\n",
    "\n",
    "result = ClassicalRegister(1, \"Result\")\n",
    "test.add_register(result)\n",
    "test.measure(ebit1, ??????)\n",
    "\n",
    "display(test.draw('mpl'))"
   ]
  },
  {
   "cell_type": "markdown",
   "id": "17e88067-ca3a-434a-8708-8c424da846a3",
   "metadata": {},
   "source": [
    "Finally let's run the Aer simulator on this circuit and plot a histogram of the outputs. We'll see the statistics for all three classical bits: the bottom/leftmost bit should always be \n",
    "0, indicating that the qubit \n",
    "Q was successfully teleported into \n",
    "B, while the other two bits should be roughly uniform."
   ]
  },
  {
   "cell_type": "code",
   "execution_count": null,
   "id": "2f932cfc-1f02-4e7e-a5d7-553e5e2d72af",
   "metadata": {},
   "outputs": [],
   "source": [
    "# Replace ?\n",
    "result = AerSimulator().run(test).result()\n",
    "statistics = result.get_counts()\n",
    "display(plot_histogram(??????????))"
   ]
  },
  {
   "cell_type": "markdown",
   "id": "4a73b25a-a8d8-4773-8d30-c092abe01d80",
   "metadata": {},
   "source": [
    "We can also filter the statistics to focus just on the test result qubit if we wish, like this:"
   ]
  },
  {
   "cell_type": "code",
   "execution_count": null,
   "id": "66e43aa9-9c3c-447c-a90b-0c40e71584a3",
   "metadata": {},
   "outputs": [],
   "source": [
    "filtered_statistics = marginal_distribution(statistics, [2])\n",
    "display(plot_histogram(filtered_statistics))"
   ]
  },
  {
   "cell_type": "markdown",
   "id": "57ab8e90-9a12-42e5-94ce-26a52e6eb72b",
   "metadata": {},
   "source": [
    "# End of Notebook"
   ]
  }
 ],
 "metadata": {
  "kernelspec": {
   "display_name": "Python 3 [Default]",
   "language": "python",
   "name": "python3"
  },
  "language_info": {
   "codemirror_mode": {
    "name": "ipython",
    "version": 3
   },
   "file_extension": ".py",
   "mimetype": "text/x-python",
   "name": "python",
   "nbconvert_exporter": "python",
   "pygments_lexer": "ipython3",
   "version": "3.11.9"
  }
 },
 "nbformat": 4,
 "nbformat_minor": 5
}
