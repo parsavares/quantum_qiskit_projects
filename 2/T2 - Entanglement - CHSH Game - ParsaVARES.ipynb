{
 "cells": [
  {
   "cell_type": "markdown",
   "id": "23307578-3a06-4de2-8a7f-f53ccad6d9be",
   "metadata": {},
   "source": [
    "# Entanglement in Action"
   ]
  },
  {
   "cell_type": "markdown",
   "id": "49954df1-ab32-48fb-88b9-a854847c0514",
   "metadata": {},
   "source": [
    "# CHSH Game"
   ]
  },
  {
   "cell_type": "code",
   "execution_count": 1,
   "id": "8313c6ab-b0d1-42f1-8283-1ca6513344c5",
   "metadata": {},
   "outputs": [
    {
     "name": "stdout",
     "output_type": "stream",
     "text": [
      "Collecting qiskit[visualization]\n",
      "  Using cached qiskit-1.2.4-cp38-abi3-manylinux_2_17_x86_64.manylinux2014_x86_64.whl.metadata (12 kB)\n",
      "Collecting rustworkx>=0.15.0 (from qiskit[visualization])\n",
      "  Using cached rustworkx-0.15.1-cp38-abi3-manylinux_2_17_x86_64.manylinux2014_x86_64.whl.metadata (9.9 kB)\n",
      "Requirement already satisfied: numpy<3,>=1.17 in /opt/conda/lib/python3.11/site-packages (from qiskit[visualization]) (1.26.4)\n",
      "Collecting scipy>=1.5 (from qiskit[visualization])\n",
      "  Using cached scipy-1.14.1-cp311-cp311-manylinux_2_17_x86_64.manylinux2014_x86_64.whl.metadata (60 kB)\n",
      "Collecting sympy>=1.3 (from qiskit[visualization])\n",
      "  Using cached sympy-1.13.3-py3-none-any.whl.metadata (12 kB)\n",
      "Collecting dill>=0.3 (from qiskit[visualization])\n",
      "  Using cached dill-0.3.9-py3-none-any.whl.metadata (10 kB)\n",
      "Requirement already satisfied: python-dateutil>=2.8.0 in /opt/conda/lib/python3.11/site-packages (from qiskit[visualization]) (2.9.0)\n",
      "Collecting stevedore>=3.0.0 (from qiskit[visualization])\n",
      "  Using cached stevedore-5.3.0-py3-none-any.whl.metadata (2.3 kB)\n",
      "Requirement already satisfied: typing-extensions in /opt/conda/lib/python3.11/site-packages (from qiskit[visualization]) (4.11.0)\n",
      "Collecting symengine<0.14,>=0.11 (from qiskit[visualization])\n",
      "  Using cached symengine-0.13.0-cp311-cp311-manylinux_2_17_x86_64.manylinux2014_x86_64.whl.metadata (1.2 kB)\n",
      "Requirement already satisfied: matplotlib>=3.3 in /opt/conda/lib/python3.11/site-packages (from qiskit[visualization]) (3.9.2)\n",
      "Collecting pydot (from qiskit[visualization])\n",
      "  Using cached pydot-3.0.2-py3-none-any.whl.metadata (10 kB)\n",
      "Requirement already satisfied: Pillow>=4.2.1 in /opt/conda/lib/python3.11/site-packages (from qiskit[visualization]) (11.0.0)\n",
      "Collecting pylatexenc>=1.4 (from qiskit[visualization])\n",
      "  Using cached pylatexenc-2.10-py3-none-any.whl\n",
      "Collecting seaborn>=0.9.0 (from qiskit[visualization])\n",
      "  Using cached seaborn-0.13.2-py3-none-any.whl.metadata (5.4 kB)\n",
      "Requirement already satisfied: contourpy>=1.0.1 in /opt/conda/lib/python3.11/site-packages (from matplotlib>=3.3->qiskit[visualization]) (1.3.0)\n",
      "Requirement already satisfied: cycler>=0.10 in /opt/conda/lib/python3.11/site-packages (from matplotlib>=3.3->qiskit[visualization]) (0.12.1)\n",
      "Requirement already satisfied: fonttools>=4.22.0 in /opt/conda/lib/python3.11/site-packages (from matplotlib>=3.3->qiskit[visualization]) (4.54.1)\n",
      "Requirement already satisfied: kiwisolver>=1.3.1 in /opt/conda/lib/python3.11/site-packages (from matplotlib>=3.3->qiskit[visualization]) (1.4.7)\n",
      "Requirement already satisfied: packaging>=20.0 in /opt/conda/lib/python3.11/site-packages (from matplotlib>=3.3->qiskit[visualization]) (24.0)\n",
      "Requirement already satisfied: pyparsing>=2.3.1 in /opt/conda/lib/python3.11/site-packages (from matplotlib>=3.3->qiskit[visualization]) (3.2.0)\n",
      "Requirement already satisfied: six>=1.5 in /opt/conda/lib/python3.11/site-packages (from python-dateutil>=2.8.0->qiskit[visualization]) (1.16.0)\n",
      "Requirement already satisfied: pandas>=1.2 in /opt/conda/lib/python3.11/site-packages (from seaborn>=0.9.0->qiskit[visualization]) (2.2.3)\n",
      "Collecting pbr>=2.0.0 (from stevedore>=3.0.0->qiskit[visualization])\n",
      "  Using cached pbr-6.1.0-py2.py3-none-any.whl.metadata (3.4 kB)\n",
      "Collecting mpmath<1.4,>=1.1.0 (from sympy>=1.3->qiskit[visualization])\n",
      "  Using cached mpmath-1.3.0-py3-none-any.whl.metadata (8.6 kB)\n",
      "Requirement already satisfied: pytz>=2020.1 in /opt/conda/lib/python3.11/site-packages (from pandas>=1.2->seaborn>=0.9.0->qiskit[visualization]) (2024.1)\n",
      "Requirement already satisfied: tzdata>=2022.7 in /opt/conda/lib/python3.11/site-packages (from pandas>=1.2->seaborn>=0.9.0->qiskit[visualization]) (2024.2)\n",
      "Using cached dill-0.3.9-py3-none-any.whl (119 kB)\n",
      "Using cached rustworkx-0.15.1-cp38-abi3-manylinux_2_17_x86_64.manylinux2014_x86_64.whl (2.0 MB)\n",
      "Using cached scipy-1.14.1-cp311-cp311-manylinux_2_17_x86_64.manylinux2014_x86_64.whl (41.2 MB)\n",
      "Using cached seaborn-0.13.2-py3-none-any.whl (294 kB)\n",
      "Using cached stevedore-5.3.0-py3-none-any.whl (49 kB)\n",
      "Using cached symengine-0.13.0-cp311-cp311-manylinux_2_17_x86_64.manylinux2014_x86_64.whl (49.7 MB)\n",
      "Using cached sympy-1.13.3-py3-none-any.whl (6.2 MB)\n",
      "Using cached pydot-3.0.2-py3-none-any.whl (35 kB)\n",
      "Using cached qiskit-1.2.4-cp38-abi3-manylinux_2_17_x86_64.manylinux2014_x86_64.whl (4.8 MB)\n",
      "Using cached mpmath-1.3.0-py3-none-any.whl (536 kB)\n",
      "Using cached pbr-6.1.0-py2.py3-none-any.whl (108 kB)\n",
      "Installing collected packages: pylatexenc, mpmath, sympy, symengine, scipy, rustworkx, pydot, pbr, dill, stevedore, seaborn, qiskit\n",
      "Successfully installed dill-0.3.9 mpmath-1.3.0 pbr-6.1.0 pydot-3.0.2 pylatexenc-2.10 qiskit-1.2.4 rustworkx-0.15.1 scipy-1.14.1 seaborn-0.13.2 stevedore-5.3.0 symengine-0.13.0 sympy-1.13.3\n",
      "Note: you may need to restart the kernel to use updated packages.\n"
     ]
    }
   ],
   "source": [
    "%pip install qiskit[visualization]"
   ]
  },
  {
   "cell_type": "code",
   "execution_count": 2,
   "id": "2d392a2b-4904-4c8d-a800-3f8296ab9f55",
   "metadata": {
    "scrolled": true
   },
   "outputs": [
    {
     "name": "stdout",
     "output_type": "stream",
     "text": [
      "Collecting qiskit_aer\n",
      "  Using cached qiskit_aer-0.15.1-cp311-cp311-manylinux_2_17_x86_64.manylinux2014_x86_64.whl.metadata (8.0 kB)\n",
      "Requirement already satisfied: qiskit>=1.1.0 in /opt/.qbraid/environments/qbraid_000000/pyenv/lib/python3.11/site-packages (from qiskit_aer) (1.2.4)\n",
      "Requirement already satisfied: numpy>=1.16.3 in /opt/conda/lib/python3.11/site-packages (from qiskit_aer) (1.26.4)\n",
      "Requirement already satisfied: scipy>=1.0 in /opt/.qbraid/environments/qbraid_000000/pyenv/lib/python3.11/site-packages (from qiskit_aer) (1.14.1)\n",
      "Requirement already satisfied: psutil>=5 in /opt/conda/lib/python3.11/site-packages (from qiskit_aer) (5.9.8)\n",
      "Requirement already satisfied: rustworkx>=0.15.0 in /opt/.qbraid/environments/qbraid_000000/pyenv/lib/python3.11/site-packages (from qiskit>=1.1.0->qiskit_aer) (0.15.1)\n",
      "Requirement already satisfied: sympy>=1.3 in /opt/.qbraid/environments/qbraid_000000/pyenv/lib/python3.11/site-packages (from qiskit>=1.1.0->qiskit_aer) (1.13.3)\n",
      "Requirement already satisfied: dill>=0.3 in /opt/.qbraid/environments/qbraid_000000/pyenv/lib/python3.11/site-packages (from qiskit>=1.1.0->qiskit_aer) (0.3.9)\n",
      "Requirement already satisfied: python-dateutil>=2.8.0 in /opt/conda/lib/python3.11/site-packages (from qiskit>=1.1.0->qiskit_aer) (2.9.0)\n",
      "Requirement already satisfied: stevedore>=3.0.0 in /opt/.qbraid/environments/qbraid_000000/pyenv/lib/python3.11/site-packages (from qiskit>=1.1.0->qiskit_aer) (5.3.0)\n",
      "Requirement already satisfied: typing-extensions in /opt/conda/lib/python3.11/site-packages (from qiskit>=1.1.0->qiskit_aer) (4.11.0)\n",
      "Requirement already satisfied: symengine<0.14,>=0.11 in /opt/.qbraid/environments/qbraid_000000/pyenv/lib/python3.11/site-packages (from qiskit>=1.1.0->qiskit_aer) (0.13.0)\n",
      "Requirement already satisfied: six>=1.5 in /opt/conda/lib/python3.11/site-packages (from python-dateutil>=2.8.0->qiskit>=1.1.0->qiskit_aer) (1.16.0)\n",
      "Requirement already satisfied: pbr>=2.0.0 in /opt/.qbraid/environments/qbraid_000000/pyenv/lib/python3.11/site-packages (from stevedore>=3.0.0->qiskit>=1.1.0->qiskit_aer) (6.1.0)\n",
      "Requirement already satisfied: mpmath<1.4,>=1.1.0 in /opt/.qbraid/environments/qbraid_000000/pyenv/lib/python3.11/site-packages (from sympy>=1.3->qiskit>=1.1.0->qiskit_aer) (1.3.0)\n",
      "Using cached qiskit_aer-0.15.1-cp311-cp311-manylinux_2_17_x86_64.manylinux2014_x86_64.whl (12.3 MB)\n",
      "Installing collected packages: qiskit_aer\n",
      "Successfully installed qiskit_aer-0.15.1\n",
      "Note: you may need to restart the kernel to use updated packages.\n"
     ]
    }
   ],
   "source": [
    "%pip install qiskit_aer"
   ]
  },
  {
   "cell_type": "code",
   "execution_count": 3,
   "id": "75564919-d6d1-42a7-8dfd-f5ba7038be86",
   "metadata": {},
   "outputs": [],
   "source": [
    "# Required imports\n",
    "from qiskit import QuantumCircuit\n",
    "from qiskit_aer.primitives import Sampler\n",
    "from numpy import pi\n",
    "from numpy.random import randint"
   ]
  },
  {
   "cell_type": "markdown",
   "id": "8ec65fc7-c267-4143-8f03-a96ba26c7958",
   "metadata": {},
   "source": [
    "We can implement the CHSH game together with the quantum strategy defined above in Qiskit as follows.\n",
    "\n",
    "First, here's the definition of the game itself, which allows an arbitrary strategy to be plugged in as an argument."
   ]
  },
  {
   "cell_type": "code",
   "execution_count": 5,
   "id": "7a740b94-1836-4bbf-822a-ce07bc2aa133",
   "metadata": {},
   "outputs": [],
   "source": [
    "def chsh_game(strategy):\n",
    "    \"\"\"Plays the CHSH game\n",
    "    Args:\n",
    "        strategy (callable): A function that takes two bits (as `int`s) and\n",
    "            returns two bits (also as `int`s). The strategy must follow the\n",
    "            rules of the CHSH game.\n",
    "    Returns:\n",
    "        int: 1 for a win, 0 for a loss.\n",
    "    \"\"\"\n",
    "    # Referee chooses x and y randomly\n",
    "    x, y = randint(0, 2), randint(0, 2)\n",
    "\n",
    "    # Use strategy to choose a and b\n",
    "    a, b = strategy(x, y)\n",
    "\n",
    "    # Referee decides if Alice and Bob win or lose\n",
    "    if (a != b) == (x & y):\n",
    "        return 1  # Win\n",
    "    return 0  # Lose"
   ]
  },
  {
   "cell_type": "markdown",
   "id": "1afcb28b-bc29-4924-a93a-0b6bc5bf118b",
   "metadata": {},
   "source": [
    "Now we'll create a function that outputs a circuit depending on the questions for Alice and Bob. We'll let the qubits have their default names for simplicity, and we'll use the built-in \n",
    "Ry(θ) gate for Alice and Bob's actions."
   ]
  },
  {
   "cell_type": "code",
   "execution_count": 4,
   "id": "601a4dd6-818f-44d0-9b32-2eb39f0f39b5",
   "metadata": {},
   "outputs": [],
   "source": [
    "def chsh_circuit(x, y):\n",
    "    \"\"\"Creates a `QuantumCircuit` that implements the best CHSH strategy.\n",
    "    Args:\n",
    "        x (int): Alice's bit (must be 0 or 1)\n",
    "        y (int): Bob's bit (must be 0 or 1)\n",
    "    Returns:\n",
    "        QuantumCircuit: Circuit that, when run, returns Alice and Bob's\n",
    "            answer bits.\n",
    "    \"\"\"\n",
    "    # Replace ?\n",
    "    qc = QuantumCircuit(2, 2)\n",
    "    # Initialize qubits in entangled state\n",
    "    qc.h(0)           # Apply Hadamard gate to Alice's qubit (index 0)\n",
    "    qc.cx(0, 1)       # Apply CNOT gate with Alice's qubit as control and Bob's qubit as target\n",
    "    qc.barrier()\n",
    "    qc.barrier()\n",
    "\n",
    "    # Alice\n",
    "    if x == 0:\n",
    "        qc.ry(0, 0)  # No rotation if x is 0 (Ry(0) is the identity operation)\n",
    "    else:\n",
    "        qc.ry(pi / 2, 0)  # Rotate by π/2 if x is 1\n",
    "    qc.measure(0, 0)\n",
    "\n",
    "    # Bob\n",
    "    if y == 0:\n",
    "        qc.ry(pi / 4, 1)  # Rotate by π/4 if y is 0\n",
    "    else:\n",
    "        qc.ry(-pi / 4, 1)  # Rotate by -π/4 if y is 1\n",
    "    qc.measure(1, 1)\n",
    "\n",
    "    return qc"
   ]
  },
  {
   "cell_type": "markdown",
   "id": "ef7558ac-8818-4d4e-bd7f-f0465b3c2d3e",
   "metadata": {},
   "source": [
    "Here are the four possible circuits, depending on which questions are asked."
   ]
  },
  {
   "cell_type": "code",
   "execution_count": 6,
   "id": "dd9c30d9-5311-4fbf-8a0b-3489dd1fe71f",
   "metadata": {},
   "outputs": [
    {
     "name": "stdout",
     "output_type": "stream",
     "text": [
      "(x,y) = (0,0)\n"
     ]
    },
    {
     "data": {
      "image/png": "[encoded data removed]",
      "text/plain": [
       "<Figure size 705.35x284.278 with 1 Axes>"
      ]
     },
     "metadata": {},
     "output_type": "display_data"
    },
    {
     "name": "stdout",
     "output_type": "stream",
     "text": [
      "(x,y) = (0,1)\n"
     ]
    },
    {
     "data": {
      "image/png": "[encoded data removed]",
      "text/plain": [
       "<Figure size 705.35x284.278 with 1 Axes>"
      ]
     },
     "metadata": {},
     "output_type": "display_data"
    },
    {
     "name": "stdout",
     "output_type": "stream",
     "text": [
      "(x,y) = (1,0)\n"
     ]
    },
    {
     "data": {
      "image/png": "[encoded data removed]",
      "text/plain": [
       "<Figure size 705.35x284.278 with 1 Axes>"
      ]
     },
     "metadata": {},
     "output_type": "display_data"
    },
    {
     "name": "stdout",
     "output_type": "stream",
     "text": [
      "(x,y) = (1,1)\n"
     ]
    },
    {
     "data": {
      "image/png": "[encoded data removed]",
      "text/plain": [
       "<Figure size 705.35x284.278 with 1 Axes>"
      ]
     },
     "metadata": {},
     "output_type": "display_data"
    }
   ],
   "source": [
    "# Draw the four possible circuits\n",
    "# Replace the ?\n",
    "\n",
    "print(\"(x,y) = (0,0)\")\n",
    "display(chsh_circuit(0, 0).draw('mpl'))\n",
    "\n",
    "print(\"(x,y) = (0,1)\")\n",
    "display(chsh_circuit(0, 1).draw('mpl'))\n",
    "\n",
    "print(\"(x,y) = (1,0)\")\n",
    "display(chsh_circuit(1, 0).draw('mpl'))\n",
    "\n",
    "print(\"(x,y) = (1,1)\")\n",
    "display(chsh_circuit(1, 1).draw('mpl'))"
   ]
  },
  {
   "cell_type": "markdown",
   "id": "7d74dcef-b741-4794-83db-838a4a5b1c12",
   "metadata": {},
   "source": [
    "Now we'll create a job using the Aer simulator that runs the circuit a single time for a given input pair \n",
    "(x,y)."
   ]
  },
  {
   "cell_type": "code",
   "execution_count": 7,
   "id": "23c3440c-0818-4f7e-9480-7bb430beb85b",
   "metadata": {},
   "outputs": [],
   "source": [
    "sampler = Sampler()\n",
    "\n",
    "def quantum_strategy(x, y):\n",
    "    \"\"\"Carry out the best strategy for the CHSH game.\n",
    "    Args:\n",
    "        x (int): Alice's bit (must be 0 or 1)\n",
    "        y (int): Bob's bit (must be 0 or 1)\n",
    "    Returns:\n",
    "        (int, int): Alice and Bob's answer bits (respectively)\n",
    "    \"\"\"\n",
    "    # Replace ?\n",
    "    # `shots=1` runs the circuit once\n",
    "    result = sampler.run(chsh_circuit(x, y), shots=1).result()\n",
    "    statistics = result.quasi_dists[0].binary_probabilities()\n",
    "    bits = list(statistics.keys())[0]\n",
    "    a, b = bits[0], bits[1]\n",
    "    return a, b"
   ]
  },
  {
   "cell_type": "markdown",
   "id": "b3802bc4-a451-4442-9221-fdb38e98bef1",
   "metadata": {},
   "source": [
    "Finally, we'll play the game 1,000 times and compute the fraction of them that the strategy wins."
   ]
  },
  {
   "cell_type": "code",
   "execution_count": 8,
   "id": "054a86b1-f0db-47bc-839e-b9ecba1ed8bb",
   "metadata": {},
   "outputs": [
    {
     "name": "stdout",
     "output_type": "stream",
     "text": [
      "Fraction of games won: 0.856\n"
     ]
    }
   ],
   "source": [
    "# Replace ? \n",
    "NUM_GAMES = 1000\n",
    "TOTAL_SCORE = 0\n",
    "\n",
    "for _ in range(NUM_GAMES):\n",
    "    TOTAL_SCORE += chsh_game(quantum_strategy)\n",
    "\n",
    "print(\"Fraction of games won:\", TOTAL_SCORE / NUM_GAMES)"
   ]
  },
  {
   "cell_type": "markdown",
   "id": "718b3108-3837-441b-a6d7-5e6c8bff14a4",
   "metadata": {},
   "source": [
    "We can also define a classical strategy and see how well it works. Feel free to change the code to try out different strategies!"
   ]
  },
  {
   "cell_type": "code",
   "execution_count": 9,
   "id": "3ebff9a3-1f33-49cd-b459-802f4d12f2e1",
   "metadata": {},
   "outputs": [],
   "source": [
    "def classical_strategy(x, y):\n",
    "    \"\"\"An optimal classical strategy for the CHSH game\n",
    "    Args:\n",
    "        x (int): Alice's bit (must be 0 or 1)\n",
    "        y (int): Bob's bit (must be 0 or 1)\n",
    "    Returns:\n",
    "        (int, int): Alice and Bob's answer bits (respectively)\n",
    "    \"\"\"\n",
    "    # Alice's answer\n",
    "    if x == 0:\n",
    "        a = 0\n",
    "    elif x == 1:\n",
    "        a = 1\n",
    "\n",
    "    # Bob's answer\n",
    "    if y == 0:\n",
    "        b = 1\n",
    "    elif y == 1:\n",
    "        b = 0\n",
    "\n",
    "    return a, b"
   ]
  },
  {
   "cell_type": "markdown",
   "id": "6faef0df-ce03-4a15-aefc-3419b6a7c86b",
   "metadata": {},
   "source": [
    "Again let's play the game 1,000 times to see how well it works."
   ]
  },
  {
   "cell_type": "code",
   "execution_count": 11,
   "id": "34c42e7f-2c17-4b3d-9ffc-e08155510ea8",
   "metadata": {},
   "outputs": [
    {
     "name": "stdout",
     "output_type": "stream",
     "text": [
      "Fraction of games won: 0.749\n"
     ]
    }
   ],
   "source": [
    "# Replace ?\n",
    "NUM_GAMES = 1000\n",
    "TOTAL_SCORE = 0\n",
    "\n",
    "for _ in range(NUM_GAMES):\n",
    "    TOTAL_SCORE += chsh_game(classical_strategy)\n",
    "\n",
    "print(\"Fraction of games won:\", TOTAL_SCORE / NUM_GAMES)"
   ]
  },
  {
   "cell_type": "markdown",
   "id": "0c1ab43e-2c68-4131-9b79-10aa66590074",
   "metadata": {},
   "source": [
    "Although there's randomness involved, the statistics are very unlikely to deviate too much after 1,000 runs. The quantum strategy wins about 85% of the time while a classical strategy can't win more than about 75% of the time."
   ]
  },
  {
   "cell_type": "markdown",
   "id": "57ab8e90-9a12-42e5-94ce-26a52e6eb72b",
   "metadata": {},
   "source": [
    "# End of Notebook"
   ]
  }
 ],
 "metadata": {
  "kernelspec": {
   "display_name": "Python 3 [Default]",
   "language": "python",
   "name": "python3"
  },
  "language_info": {
   "codemirror_mode": {
    "name": "ipython",
    "version": 3
   },
   "file_extension": ".py",
   "mimetype": "text/x-python",
   "name": "python",
   "nbconvert_exporter": "python",
   "pygments_lexer": "ipython3",
   "version": "3.11.9"
  }
 },
 "nbformat": 4,
 "nbformat_minor": 5
}
