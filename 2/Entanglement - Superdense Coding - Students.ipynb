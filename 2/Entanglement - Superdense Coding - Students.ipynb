{
 "cells": [
  {
   "cell_type": "markdown",
   "id": "23307578-3a06-4de2-8a7f-f53ccad6d9be",
   "metadata": {},
   "source": [
    "# Entanglement in Action"
   ]
  },
  {
   "cell_type": "markdown",
   "id": "3b0426ae-d163-493d-812c-84458174fd64",
   "metadata": {},
   "source": [
    "# Superdense Coding"
   ]
  },
  {
   "cell_type": "code",
   "execution_count": null,
   "id": "8313c6ab-b0d1-42f1-8283-1ca6513344c5",
   "metadata": {},
   "outputs": [],
   "source": [
    "%pip install qiskit[visualization]"
   ]
  },
  {
   "cell_type": "code",
   "execution_count": null,
   "id": "ceb61e3c-847c-483f-888d-a72b764f8d73",
   "metadata": {},
   "outputs": [],
   "source": [
    "%pip install qiskit_aer"
   ]
  },
  {
   "cell_type": "code",
   "execution_count": 5,
   "id": "75564919-d6d1-42a7-8dfd-f5ba7038be86",
   "metadata": {},
   "outputs": [],
   "source": [
    "# Required imports\n",
    "from qiskit import QuantumCircuit, QuantumRegister, ClassicalRegister\n",
    "from qiskit_aer.primitives import Sampler\n",
    "from qiskit_aer import AerSimulator\n",
    "from qiskit.visualization import plot_histogram"
   ]
  },
  {
   "cell_type": "markdown",
   "id": "0bb1b745-870d-4591-93d0-a17f6c18f971",
   "metadata": {},
   "source": [
    "Here is a simple implementation of superdense coding where we specify the circuit itself depending on the bits to be transmitted. First let's specify the bits to be transmitted. (Try changing the bits to see that it works correctly.)"
   ]
  },
  {
   "cell_type": "code",
   "execution_count": 6,
   "id": "d8c1ed00-3d16-4cdc-848a-5756dfe9b50b",
   "metadata": {},
   "outputs": [],
   "source": [
    "c = \"1\"\n",
    "d = \"0\""
   ]
  },
  {
   "cell_type": "markdown",
   "id": "4fbf96dd-cb43-4fc6-8848-268a790000df",
   "metadata": {},
   "source": [
    "Now we'll build the circuit accordingly. Here we'll just allow Qiskit to use the default names for the qubits: \n",
    "q0 for the top qubit and q1 for the bottom one."
   ]
  },
  {
   "cell_type": "code",
   "execution_count": null,
   "id": "09b0f06d-51fa-44bf-a5d1-c8a35cab2b0f",
   "metadata": {},
   "outputs": [],
   "source": [
    "protocol = QuantumCircuit(2)\n",
    "\n",
    "# Prepare ebit used for superdense coding\n",
    "# Replace the ? \n",
    "?\n",
    "protocol.barrier()\n",
    "\n",
    "# Alice's operations\n",
    "if d == \"1\":\n",
    "    ?\n",
    "if c == \"1\":\n",
    "    ?\n",
    "protocol.barrier()\n",
    "\n",
    "# Bob's actions\n",
    "?\n",
    "protocol.measure_all()\n",
    "\n",
    "display(protocol.draw('mpl'))"
   ]
  },
  {
   "cell_type": "markdown",
   "id": "138ea60c-29be-4da2-90c4-1f86f28bfb27",
   "metadata": {},
   "source": [
    "Remark the `measure_all` function, which measures all of the qubits and puts the results into a single classical register (therefore having two bits in this case).\n",
    "\n",
    "Running the Aer simulator produces the expected output."
   ]
  },
  {
   "cell_type": "code",
   "execution_count": null,
   "id": "d61fea30-d56f-4c9d-b468-eb6bbcc8e4f7",
   "metadata": {},
   "outputs": [],
   "source": [
    "# Replace ? \n",
    "result = Sampler().run(protocol).result()\n",
    "statistics = result.quasi_dists[0].binary_probabilities()\n",
    "\n",
    "for outcome, frequency in statistics.items():\n",
    "    print(f\"Measured {outcome} with frequency {frequency}\")\n",
    "\n",
    "display(plot_histogram(?))"
   ]
  },
  {
   "cell_type": "markdown",
   "id": "a55e779b-62f8-4a5b-9e36-2b449835ed7c",
   "metadata": {},
   "source": [
    "Just for fun, we can use an additional qubit as a random bit generator to randomly choose \n",
    "c and d, then run the superdense coding protocol to see that these bits are transmitted correctly."
   ]
  },
  {
   "cell_type": "code",
   "execution_count": null,
   "id": "aaddb3fc-3b31-46b3-967d-ffae24760af5",
   "metadata": {},
   "outputs": [],
   "source": [
    "rbg = QuantumRegister(1, \"randomizer\")\n",
    "ebit0 = QuantumRegister(1, \"A\")\n",
    "ebit1 = QuantumRegister(1, \"B\")\n",
    "\n",
    "Alice_c = ClassicalRegister(1, \"Alice c\")\n",
    "Alice_d = ClassicalRegister(1, \"Alice d\")\n",
    "\n",
    "test = QuantumCircuit(rbg, ebit0, ebit1, Alice_d, Alice_c)\n",
    "\n",
    "# Initialize the ebit\n",
    "# Replace ?\n",
    "?\n",
    "test.barrier()\n",
    "\n",
    "# Use the 'randomizer' qubit twice to generate Alice's bits c and d.\n",
    "# Use the Hadamard Gate to create the random bit, with a measurement.\n",
    "# Replace ?\n",
    "test.h(rbg)\n",
    "test.measure(rbg, Alice_c)\n",
    "test.h(???)\n",
    "test.measure(???, ???????)\n",
    "test.barrier()\n",
    "\n",
    "# Now the protocol runs, starting with Alice's actions, which depend\n",
    "# on her bits.\n",
    "# Replace ?\n",
    "with test.if_test((Alice_d, 1), label=\"Z\"):\n",
    "    test.?(?????)\n",
    "with test.if_test((Alice_c, 1), label=\"X\"):\n",
    "    test.?(?????)\n",
    "test.barrier()\n",
    "\n",
    "# Bob's actions\n",
    "# Replace \n",
    "test.cx(?????, ?????)\n",
    "test.h(?????)\n",
    "test.barrier()\n",
    "\n",
    "Bob_c = ClassicalRegister(1, \"Bob c\")\n",
    "Bob_d = ClassicalRegister(1, \"Bob d\")\n",
    "test.add_register(Bob_d)\n",
    "test.add_register(Bob_c)\n",
    "test.measure(?????, ?????)\n",
    "test.measure(?????, ?????)\n",
    "\n",
    "display(test.draw('mpl'))"
   ]
  },
  {
   "cell_type": "markdown",
   "id": "48321795-5eab-4a0e-a4b5-f1da18296dbc",
   "metadata": {},
   "source": [
    "Running the Aer simulator shows the results: Alice and Bob's classical bits always agree."
   ]
  },
  {
   "cell_type": "code",
   "execution_count": null,
   "id": "2f932cfc-1f02-4e7e-a5d7-553e5e2d72af",
   "metadata": {},
   "outputs": [],
   "source": [
    "# Replace ? \n",
    "result = AerSimulator().run(test).result()\n",
    "statistics = result.get_counts()\n",
    "display(plot_histogram(?))"
   ]
  },
  {
   "cell_type": "markdown",
   "id": "57ab8e90-9a12-42e5-94ce-26a52e6eb72b",
   "metadata": {},
   "source": [
    "# End of Notebook"
   ]
  }
 ],
 "metadata": {
  "kernelspec": {
   "display_name": "Python 3 [Default]",
   "language": "python",
   "name": "python3"
  },
  "language_info": {
   "codemirror_mode": {
    "name": "ipython",
    "version": 3
   },
   "file_extension": ".py",
   "mimetype": "text/x-python",
   "name": "python",
   "nbconvert_exporter": "python",
   "pygments_lexer": "ipython3",
   "version": "3.11.9"
  }
 },
 "nbformat": 4,
 "nbformat_minor": 5
}
