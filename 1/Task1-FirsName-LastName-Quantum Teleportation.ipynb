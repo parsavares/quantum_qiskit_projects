{
 "cells": [
  {
   "cell_type": "markdown",
   "metadata": {},
   "source": [
    "# Teleportation with a Jupyter Notebook in Python\n",
    "Author: ........"
   ]
  },
  {
   "cell_type": "markdown",
   "metadata": {},
   "source": [
    "## Import Libraries"
   ]
  },
  {
   "cell_type": "code",
   "execution_count": null,
   "metadata": {
    "tags": []
   },
   "outputs": [],
   "source": [
    "from qiskit import *\n",
    "import matplotlib.pyplot as plt\n",
    "%matplotlib inline"
   ]
  },
  {
   "cell_type": "markdown",
   "metadata": {},
   "source": [
    "## Create a Circuit with 3 Qubits and 1 Classical Bit"
   ]
  },
  {
   "cell_type": "code",
   "execution_count": null,
   "metadata": {
    "tags": []
   },
   "outputs": [],
   "source": [
    "# Create a circuit with 3 Qubits and 1 Classical Bit\n",
    "unilucircuit = QuantumCircuit(?, ?)\n",
    "%matplotlib inline\n",
    "circuit_picture = unilucircuit.draw(output = 'mpl', style ='iqp')\n",
    "plt.show()"
   ]
  },
  {
   "cell_type": "markdown",
   "metadata": {},
   "source": [
    "## Initialize Qubit q0 in the state that we want to teleport "
   ]
  },
  {
   "cell_type": "code",
   "execution_count": null,
   "metadata": {
    "tags": []
   },
   "outputs": [],
   "source": [
    "# In this example, we want to teleport q0, which has simply the excited state |1>\n",
    "# Initialize the Qubit 0 in the state |1>\n",
    "unilucircuit.x(0)\n",
    "unilucircuit.barrier()\n",
    "circuit_picture = unilucircuit.draw(output = 'mpl', style ='iqp')\n",
    "plt.show()"
   ]
  },
  {
   "cell_type": "markdown",
   "metadata": {},
   "source": [
    "## Elaboration of the Teleportation Circuit"
   ]
  },
  {
   "cell_type": "code",
   "execution_count": null,
   "metadata": {
    "tags": []
   },
   "outputs": [],
   "source": [
    "# Spock creates an entangled bit pair, giving q1 to Alice and q2 to Bob\n",
    "# Create the first Bell state on the Qubit pair (q1, q2) using the Hadamard and the CNOT Gates\n",
    "unilucircuit.?(?)\n",
    "unilucircuit.?(?,?)\n",
    "circuit_picture = unilucircuit.draw(output = 'mpl', style ='iqp')\n",
    "plt.show()"
   ]
  },
  {
   "cell_type": "code",
   "execution_count": null,
   "metadata": {
    "tags": []
   },
   "outputs": [],
   "source": [
    "# Alice applies CNOT and H on het Qubit pair (q0, q1)\n",
    "# \n",
    "unilucircuit.?(?, ?)\n",
    "unilucircuit.?(?)\n",
    "circuit_picture = unilucircuit.draw(output = 'mpl', style ='iqp')\n",
    "plt.show()"
   ]
  },
  {
   "cell_type": "code",
   "execution_count": null,
   "metadata": {
    "tags": []
   },
   "outputs": [],
   "source": [
    "# First, apply a barrier for readability. \n",
    "# Alice gives her bits to Bob.\n",
    "# Depending on the bits, Bob does noting (00), applies X (01), applies Z (10) or ZX (11). The latter means first X then Z.\n",
    "# In matrix multiplication this is ZX.\n",
    "# How to make this happen? \n",
    "# Apply a CNOT Gate on the Qubit pair (q1, q2). This represents the conditional X. \n",
    "# Next apply a conditional Z or \"cz\" gate on the Qubit pair (q0, q2). This represents the conditional Z.\n",
    "# Next, Measure the Qubit q2 in the Classical Bit. \n",
    "#\n",
    "unilucircuit.barrier()\n",
    "unilucircuit.?(?,?)\n",
    "unilucircuit.?(?,?)\n",
    "unilucircuit.measure([?], [?])\n",
    "circuit_picture = unilucircuit.draw(output = 'mpl', style ='iqp')\n",
    "plt.show()"
   ]
  },
  {
   "cell_type": "code",
   "execution_count": null,
   "metadata": {
    "scrolled": true,
    "tags": []
   },
   "outputs": [],
   "source": [
    "# We are going to plot the results now\n",
    "# The plot uses the sequence q2, q1, q0\n",
    "# Make a histogram. \n",
    "from qiskit.visualization import plot_histogram\n",
    "from qiskit_aer import AerSimulator\n",
    "result = AerSimulator().run(unilucircuit).?()\n",
    "statistics = ?.get_counts()\n",
    "plot_histogram = plot_histogram(?)\n",
    "plt.show()\n",
    "print(?)"
   ]
  },
  {
   "cell_type": "markdown",
   "metadata": {},
   "source": [
    "## Second Experiment"
   ]
  },
  {
   "cell_type": "code",
   "execution_count": null,
   "metadata": {
    "tags": []
   },
   "outputs": [],
   "source": [
    "## Let us do another experiment\n",
    "# Create 1-qubit state psi = sqrt(0.7) |0> + sqrt(0.3) |1> \n",
    "# Of course: sqrt(0.7)**2 + sqrt(0.3)**2 = 1\n",
    "# \n",
    "import numpy as np\n",
    "from qiskit import QuantumCircuit, QuantumRegister, ClassicalRegister\n",
    "from qiskit.visualization import plot_histogram, plot_bloch_multivector\n",
    "#from qiskit.extensions import Initialize\n",
    "%matplotlib inline\n",
    "?\n",
    "alice_state = [np.sqrt(0.70), np.sqrt(0.30)]\n",
    "unilucircuit.initialize(alice_state, 0)\n",
    "?"
   ]
  },
  {
   "cell_type": "markdown",
   "metadata": {},
   "source": [
    "## End of Notebook"
   ]
  }
 ],
 "metadata": {
  "kernelspec": {
   "display_name": "Python 3 (ipykernel)",
   "language": "python",
   "name": "python3"
  },
  "language_info": {
   "codemirror_mode": {
    "name": "ipython",
    "version": 3
   },
   "file_extension": ".py",
   "mimetype": "text/x-python",
   "name": "python",
   "nbconvert_exporter": "python",
   "pygments_lexer": "ipython3",
   "version": "3.11.5"
  }
 },
 "nbformat": 4,
 "nbformat_minor": 4
}
