{
 "cells": [
  {
   "cell_type": "markdown",
   "id": "f308b1ed-1c77-44e6-85a3-57d54471f84a",
   "metadata": {},
   "source": [
    "# Deutsch Algorithm"
   ]
  },
  {
   "cell_type": "code",
   "execution_count": 1,
   "id": "d96c8fe4-59f7-4f73-aedd-124fd849e1b5",
   "metadata": {
    "scrolled": true
   },
   "outputs": [
    {
     "name": "stdout",
     "output_type": "stream",
     "text": [
      "Requirement already satisfied: qiskit[visualization] in /opt/.qbraid/environments/qbraid_000000/pyenv/lib/python3.11/site-packages (1.3.0)\n",
      "Requirement already satisfied: rustworkx>=0.15.0 in /opt/.qbraid/environments/qbraid_000000/pyenv/lib/python3.11/site-packages (from qiskit[visualization]) (0.15.1)\n",
      "Requirement already satisfied: numpy<3,>=1.17 in /opt/conda/lib/python3.11/site-packages (from qiskit[visualization]) (1.26.4)\n",
      "Requirement already satisfied: scipy>=1.5 in /opt/.qbraid/environments/qbraid_000000/pyenv/lib/python3.11/site-packages (from qiskit[visualization]) (1.14.1)\n",
      "Requirement already satisfied: sympy>=1.3 in /opt/.qbraid/environments/qbraid_000000/pyenv/lib/python3.11/site-packages (from qiskit[visualization]) (1.13.3)\n",
      "Requirement already satisfied: dill>=0.3 in /opt/.qbraid/environments/qbraid_000000/pyenv/lib/python3.11/site-packages (from qiskit[visualization]) (0.3.9)\n",
      "Requirement already satisfied: python-dateutil>=2.8.0 in /opt/conda/lib/python3.11/site-packages (from qiskit[visualization]) (2.9.0)\n",
      "Requirement already satisfied: stevedore>=3.0.0 in /opt/.qbraid/environments/qbraid_000000/pyenv/lib/python3.11/site-packages (from qiskit[visualization]) (5.4.0)\n",
      "Requirement already satisfied: typing-extensions in /opt/conda/lib/python3.11/site-packages (from qiskit[visualization]) (4.12.2)\n",
      "Requirement already satisfied: symengine<0.14,>=0.11 in /opt/.qbraid/environments/qbraid_000000/pyenv/lib/python3.11/site-packages (from qiskit[visualization]) (0.13.0)\n",
      "Requirement already satisfied: matplotlib>=3.3 in /opt/conda/lib/python3.11/site-packages (from qiskit[visualization]) (3.9.3)\n",
      "Requirement already satisfied: pydot in /opt/.qbraid/environments/qbraid_000000/pyenv/lib/python3.11/site-packages (from qiskit[visualization]) (3.0.3)\n",
      "Requirement already satisfied: Pillow>=4.2.1 in /opt/conda/lib/python3.11/site-packages (from qiskit[visualization]) (11.0.0)\n",
      "Requirement already satisfied: pylatexenc>=1.4 in /opt/.qbraid/environments/qbraid_000000/pyenv/lib/python3.11/site-packages (from qiskit[visualization]) (2.10)\n",
      "Requirement already satisfied: seaborn>=0.9.0 in /opt/.qbraid/environments/qbraid_000000/pyenv/lib/python3.11/site-packages (from qiskit[visualization]) (0.13.2)\n",
      "Requirement already satisfied: contourpy>=1.0.1 in /opt/conda/lib/python3.11/site-packages (from matplotlib>=3.3->qiskit[visualization]) (1.3.1)\n",
      "Requirement already satisfied: cycler>=0.10 in /opt/conda/lib/python3.11/site-packages (from matplotlib>=3.3->qiskit[visualization]) (0.12.1)\n",
      "Requirement already satisfied: fonttools>=4.22.0 in /opt/conda/lib/python3.11/site-packages (from matplotlib>=3.3->qiskit[visualization]) (4.55.2)\n",
      "Requirement already satisfied: kiwisolver>=1.3.1 in /opt/conda/lib/python3.11/site-packages (from matplotlib>=3.3->qiskit[visualization]) (1.4.7)\n",
      "Requirement already satisfied: packaging>=20.0 in /opt/conda/lib/python3.11/site-packages (from matplotlib>=3.3->qiskit[visualization]) (24.0)\n",
      "Requirement already satisfied: pyparsing>=2.3.1 in /opt/conda/lib/python3.11/site-packages (from matplotlib>=3.3->qiskit[visualization]) (3.2.0)\n",
      "Requirement already satisfied: six>=1.5 in /opt/conda/lib/python3.11/site-packages (from python-dateutil>=2.8.0->qiskit[visualization]) (1.16.0)\n",
      "Requirement already satisfied: pandas>=1.2 in /opt/conda/lib/python3.11/site-packages (from seaborn>=0.9.0->qiskit[visualization]) (2.2.3)\n",
      "Requirement already satisfied: pbr>=2.0.0 in /opt/.qbraid/environments/qbraid_000000/pyenv/lib/python3.11/site-packages (from stevedore>=3.0.0->qiskit[visualization]) (6.1.0)\n",
      "Requirement already satisfied: mpmath<1.4,>=1.1.0 in /opt/.qbraid/environments/qbraid_000000/pyenv/lib/python3.11/site-packages (from sympy>=1.3->qiskit[visualization]) (1.3.0)\n",
      "Requirement already satisfied: pytz>=2020.1 in /opt/conda/lib/python3.11/site-packages (from pandas>=1.2->seaborn>=0.9.0->qiskit[visualization]) (2024.1)\n",
      "Requirement already satisfied: tzdata>=2022.7 in /opt/conda/lib/python3.11/site-packages (from pandas>=1.2->seaborn>=0.9.0->qiskit[visualization]) (2024.2)\n",
      "Note: you may need to restart the kernel to use updated packages.\n"
     ]
    }
   ],
   "source": [
    "%pip install qiskit[visualization]"
   ]
  },
  {
   "cell_type": "markdown",
   "id": "36234747-8b9f-4fc8-a808-77f91dee082e",
   "metadata": {},
   "source": [
    "First we'll define a quantum circuit that implements a query gate for \n",
    "one of the four functions f1, f2, f3, or f4 \n",
    "from one bit to one bit: \n",
    "- f1: constant function that maps 0 and 1 to 0.\n",
    "- f2: function that maps 0 to 0 and 1 to 1.\n",
    "- f3: function that maps 0 to 1 and 1 to 0.\n",
    "- f4: constant function that maps 0 and 1 to 1.\n",
    "    \n",
    "As was discussed, \n",
    "the implementation of query gates is not really a part of \n",
    "Deutsch's algorithm itself — here we're essentially just showing \n",
    "one way to prepare the input (in the form of a circuit implementation of a query gate)."
   ]
  },
  {
   "cell_type": "code",
   "execution_count": 2,
   "id": "a43d1bed-2b82-4e8b-b659-749b9eeedad5",
   "metadata": {},
   "outputs": [],
   "source": [
    "from qiskit import QuantumCircuit\n",
    "\n",
    "def deutsch_function(case: int):\n",
    "    \"\"\"\n",
    "    Generate a valid Deutsch function as a `QuantumCircuit`.\n",
    "    \"\"\"\n",
    "    if case not in [1, 2, 3, 4]:\n",
    "        raise ValueError(\"`case` must be 1, 2, 3, or 4.\")\n",
    "    \n",
    "    f = QuantumCircuit(2)\n",
    "    if case in [2, 3]:\n",
    "        f.cx(0, 1)\n",
    "    if case in [3, 4]:\n",
    "        f.x(1)\n",
    "    return f"
   ]
  },
  {
   "cell_type": "markdown",
   "id": "af09ed2b-9709-4535-a441-b99eff4e86ab",
   "metadata": {},
   "source": [
    "We can see what each circuit looks like using the draw method."
   ]
  },
  {
   "cell_type": "code",
   "execution_count": 3,
   "id": "ae231b59-1069-4e0f-bfdb-57d070603f82",
   "metadata": {},
   "outputs": [
    {
     "data": {
      "image/png": "[encoded data removed]",
      "text/plain": [
       "<Figure size 287.294x200.667 with 1 Axes>"
      ]
     },
     "metadata": {},
     "output_type": "display_data"
    }
   ],
   "source": [
    "display(deutsch_function(3).draw('mpl'))"
   ]
  },
  {
   "cell_type": "markdown",
   "id": "f7d08319-e42f-4083-9ce5-bc12526fc045",
   "metadata": {},
   "source": [
    "Next we will create the actual quantum circuit for Deutsch's algorithm, substituting the query gate with a quantum circuit implementation given as an argument. Shortly we'll plug in one of the four circuits defined by the function deutsch_function we defined earlier. Barriers are included to show the visual separation between the query gate implementation and the rest of the circuit, but they aren't necessary and can safely be removed."
   ]
  },
  {
   "cell_type": "code",
   "execution_count": 4,
   "id": "93ef7b22-2f36-4de6-aa40-6bd6972f1cc1",
   "metadata": {},
   "outputs": [],
   "source": [
    "def compile_circuit(function: QuantumCircuit):\n",
    "    \"\"\"\n",
    "    Compiles a circuit for use in Deutsch's algorithm.\n",
    "    \"\"\"\n",
    "    n = function.num_qubits - 1\n",
    "    qc = QuantumCircuit(n + 1, n)\n",
    "\n",
    "    qc.x(n)\n",
    "    qc.h(range(n + 1))\n",
    "\n",
    "    qc.barrier()\n",
    "    qc.compose(function, inplace=True)\n",
    "    qc.barrier()\n",
    "\n",
    "    qc.h(range(n))\n",
    "    qc.measure(range(n), range(n))\n",
    "\n",
    "    return qc"
   ]
  },
  {
   "cell_type": "markdown",
   "id": "f50afa19-49a7-4494-b5f3-2fc06c68d541",
   "metadata": {},
   "source": [
    "Again we can see what the circuit looks like using the draw method."
   ]
  },
  {
   "cell_type": "code",
   "execution_count": 5,
   "id": "ed60b134-013e-4317-b2d2-9a234f7a1656",
   "metadata": {},
   "outputs": [
    {
     "data": {
      "image/png": "[encoded data removed]",
      "text/plain": [
       "<Figure size 788.961x284.278 with 1 Axes>"
      ]
     },
     "metadata": {},
     "output_type": "display_data"
    }
   ],
   "source": [
    "display(compile_circuit(deutsch_function(3)).draw('mpl'))"
   ]
  },
  {
   "cell_type": "markdown",
   "id": "e906607f-0a1b-4431-b517-28202de30390",
   "metadata": {},
   "source": [
    "Finally, we'll create a function that runs the circuit just defined one time and outputs the appropriate result: \"constant\" or \"balanced.\""
   ]
  },
  {
   "cell_type": "code",
   "execution_count": 6,
   "id": "d3bfb35d-e931-4e4e-87b4-72e3b56ae2ca",
   "metadata": {},
   "outputs": [
    {
     "name": "stdout",
     "output_type": "stream",
     "text": [
      "Requirement already satisfied: qiskit_aer in /opt/.qbraid/environments/qbraid_000000/pyenv/lib/python3.11/site-packages (0.15.1)\n",
      "Requirement already satisfied: qiskit>=1.1.0 in /opt/.qbraid/environments/qbraid_000000/pyenv/lib/python3.11/site-packages (from qiskit_aer) (1.3.0)\n",
      "Requirement already satisfied: numpy>=1.16.3 in /opt/conda/lib/python3.11/site-packages (from qiskit_aer) (1.26.4)\n",
      "Requirement already satisfied: scipy>=1.0 in /opt/.qbraid/environments/qbraid_000000/pyenv/lib/python3.11/site-packages (from qiskit_aer) (1.14.1)\n",
      "Requirement already satisfied: psutil>=5 in /opt/conda/lib/python3.11/site-packages (from qiskit_aer) (5.9.8)\n",
      "Requirement already satisfied: rustworkx>=0.15.0 in /opt/.qbraid/environments/qbraid_000000/pyenv/lib/python3.11/site-packages (from qiskit>=1.1.0->qiskit_aer) (0.15.1)\n",
      "Requirement already satisfied: sympy>=1.3 in /opt/.qbraid/environments/qbraid_000000/pyenv/lib/python3.11/site-packages (from qiskit>=1.1.0->qiskit_aer) (1.13.3)\n",
      "Requirement already satisfied: dill>=0.3 in /opt/.qbraid/environments/qbraid_000000/pyenv/lib/python3.11/site-packages (from qiskit>=1.1.0->qiskit_aer) (0.3.9)\n",
      "Requirement already satisfied: python-dateutil>=2.8.0 in /opt/conda/lib/python3.11/site-packages (from qiskit>=1.1.0->qiskit_aer) (2.9.0)\n",
      "Requirement already satisfied: stevedore>=3.0.0 in /opt/.qbraid/environments/qbraid_000000/pyenv/lib/python3.11/site-packages (from qiskit>=1.1.0->qiskit_aer) (5.4.0)\n",
      "Requirement already satisfied: typing-extensions in /opt/conda/lib/python3.11/site-packages (from qiskit>=1.1.0->qiskit_aer) (4.12.2)\n",
      "Requirement already satisfied: symengine<0.14,>=0.11 in /opt/.qbraid/environments/qbraid_000000/pyenv/lib/python3.11/site-packages (from qiskit>=1.1.0->qiskit_aer) (0.13.0)\n",
      "Requirement already satisfied: six>=1.5 in /opt/conda/lib/python3.11/site-packages (from python-dateutil>=2.8.0->qiskit>=1.1.0->qiskit_aer) (1.16.0)\n",
      "Requirement already satisfied: pbr>=2.0.0 in /opt/.qbraid/environments/qbraid_000000/pyenv/lib/python3.11/site-packages (from stevedore>=3.0.0->qiskit>=1.1.0->qiskit_aer) (6.1.0)\n",
      "Requirement already satisfied: mpmath<1.4,>=1.1.0 in /opt/.qbraid/environments/qbraid_000000/pyenv/lib/python3.11/site-packages (from sympy>=1.3->qiskit>=1.1.0->qiskit_aer) (1.3.0)\n",
      "Note: you may need to restart the kernel to use updated packages.\n"
     ]
    }
   ],
   "source": [
    "%pip install qiskit_aer"
   ]
  },
  {
   "cell_type": "code",
   "execution_count": 7,
   "id": "f78a8733-76de-441f-bb2d-4bff90c1a40f",
   "metadata": {},
   "outputs": [],
   "source": [
    "from qiskit_aer import AerSimulator\n",
    "\n",
    "def deutsch_algorithm(function: QuantumCircuit):\n",
    "    \"\"\"\n",
    "    Determine if a Deutsch function is constant or balanced.\n",
    "    \"\"\"\n",
    "    qc = compile_circuit(function)\n",
    "\n",
    "    result = AerSimulator().run(qc, shots=1, memory=True).result()\n",
    "    measurements = result.get_memory()\n",
    "    if measurements[0] == \"0\":\n",
    "        return \"constant\"\n",
    "    return \"balanced\""
   ]
  },
  {
   "cell_type": "markdown",
   "id": "6defb509-62a1-4938-9157-af2af37c5bad",
   "metadata": {},
   "source": [
    "The following code cell runs Deutsch's algorithm on any one of the four functions defined above."
   ]
  },
  {
   "cell_type": "code",
   "execution_count": 9,
   "id": "159a34aa-c471-4733-9bdf-cae05ef9ad1c",
   "metadata": {},
   "outputs": [
    {
     "data": {
      "image/png": "[encoded data removed]",
      "text/plain": [
       "<Figure size 161.878x200.667 with 1 Axes>"
      ]
     },
     "metadata": {},
     "output_type": "display_data"
    },
    {
     "data": {
      "text/plain": [
       "'constant'"
      ]
     },
     "metadata": {},
     "output_type": "display_data"
    }
   ],
   "source": [
    "# Replace ? \n",
    "f = deutsch_function(1)\n",
    "display(f.draw('mpl'))\n",
    "display(deutsch_algorithm(f))"
   ]
  },
  {
   "cell_type": "code",
   "execution_count": 10,
   "id": "bd2b4f8c-e0a7-448e-a8ea-3729817afaf3",
   "metadata": {},
   "outputs": [
    {
     "data": {
      "image/png": "[encoded data removed]",
      "text/plain": [
       "<Figure size 203.683x200.667 with 1 Axes>"
      ]
     },
     "metadata": {},
     "output_type": "display_data"
    },
    {
     "data": {
      "text/plain": [
       "'balanced'"
      ]
     },
     "metadata": {},
     "output_type": "display_data"
    }
   ],
   "source": [
    "f = deutsch_function(2)\n",
    "display(f.draw('mpl'))\n",
    "display(deutsch_algorithm(f))"
   ]
  },
  {
   "cell_type": "code",
   "execution_count": 11,
   "id": "3fe904e7-9b53-4e4b-8029-86be6706e9c0",
   "metadata": {},
   "outputs": [
    {
     "data": {
      "image/png": "[encoded data removed]",
      "text/plain": [
       "<Figure size 287.294x200.667 with 1 Axes>"
      ]
     },
     "metadata": {},
     "output_type": "display_data"
    },
    {
     "data": {
      "text/plain": [
       "'balanced'"
      ]
     },
     "metadata": {},
     "output_type": "display_data"
    }
   ],
   "source": [
    "f = deutsch_function(3)\n",
    "display(f.draw('mpl'))\n",
    "display(deutsch_algorithm(f))"
   ]
  },
  {
   "cell_type": "code",
   "execution_count": 12,
   "id": "2bea481a-94e4-4114-b709-19026a6500c2",
   "metadata": {},
   "outputs": [
    {
     "data": {
      "image/png": "[encoded data removed]",
      "text/plain": [
       "<Figure size 203.683x200.667 with 1 Axes>"
      ]
     },
     "metadata": {},
     "output_type": "display_data"
    },
    {
     "data": {
      "text/plain": [
       "'constant'"
      ]
     },
     "metadata": {},
     "output_type": "display_data"
    }
   ],
   "source": [
    "f = deutsch_function(4)\n",
    "display(f.draw('mpl'))\n",
    "display(deutsch_algorithm(f))"
   ]
  },
  {
   "cell_type": "markdown",
   "id": "ccc88b59-c1f7-4384-b9c0-50756fbf4fa7",
   "metadata": {},
   "source": [
    "# End of Notebook"
   ]
  }
 ],
 "metadata": {
  "kernelspec": {
   "display_name": "Python 3 [Default]",
   "language": "python",
   "name": "python3"
  },
  "language_info": {
   "codemirror_mode": {
    "name": "ipython",
    "version": 3
   },
   "file_extension": ".py",
   "mimetype": "text/x-python",
   "name": "python",
   "nbconvert_exporter": "python",
   "pygments_lexer": "ipython3",
   "version": "3.11.9"
  }
 },
 "nbformat": 4,
 "nbformat_minor": 5
}
