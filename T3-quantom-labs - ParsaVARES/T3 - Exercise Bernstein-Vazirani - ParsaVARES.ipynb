{
 "cells": [
  {
   "cell_type": "markdown",
   "id": "7383ae7d-2450-44ee-9de3-549b99b6067e",
   "metadata": {},
   "source": [
    "# Bernstein-Vazirani Algorithm"
   ]
  },
  {
   "cell_type": "code",
   "execution_count": 10,
   "id": "d96c8fe4-59f7-4f73-aedd-124fd849e1b5",
   "metadata": {
    "scrolled": true
   },
   "outputs": [
    {
     "name": "stdout",
     "output_type": "stream",
     "text": [
      "Requirement already satisfied: qiskit[visualization] in /opt/.qbraid/environments/qbraid_000000/pyenv/lib/python3.11/site-packages (1.3.0)\n",
      "Requirement already satisfied: rustworkx>=0.15.0 in /opt/.qbraid/environments/qbraid_000000/pyenv/lib/python3.11/site-packages (from qiskit[visualization]) (0.15.1)\n",
      "Requirement already satisfied: numpy<3,>=1.17 in /opt/conda/lib/python3.11/site-packages (from qiskit[visualization]) (1.26.4)\n",
      "Requirement already satisfied: scipy>=1.5 in /opt/.qbraid/environments/qbraid_000000/pyenv/lib/python3.11/site-packages (from qiskit[visualization]) (1.14.1)\n",
      "Requirement already satisfied: sympy>=1.3 in /opt/.qbraid/environments/qbraid_000000/pyenv/lib/python3.11/site-packages (from qiskit[visualization]) (1.13.3)\n",
      "Requirement already satisfied: dill>=0.3 in /opt/.qbraid/environments/qbraid_000000/pyenv/lib/python3.11/site-packages (from qiskit[visualization]) (0.3.9)\n",
      "Requirement already satisfied: python-dateutil>=2.8.0 in /opt/conda/lib/python3.11/site-packages (from qiskit[visualization]) (2.9.0)\n",
      "Requirement already satisfied: stevedore>=3.0.0 in /opt/.qbraid/environments/qbraid_000000/pyenv/lib/python3.11/site-packages (from qiskit[visualization]) (5.4.0)\n",
      "Requirement already satisfied: typing-extensions in /opt/conda/lib/python3.11/site-packages (from qiskit[visualization]) (4.12.2)\n",
      "Requirement already satisfied: symengine<0.14,>=0.11 in /opt/.qbraid/environments/qbraid_000000/pyenv/lib/python3.11/site-packages (from qiskit[visualization]) (0.13.0)\n",
      "Requirement already satisfied: matplotlib>=3.3 in /opt/conda/lib/python3.11/site-packages (from qiskit[visualization]) (3.9.3)\n",
      "Requirement already satisfied: pydot in /opt/.qbraid/environments/qbraid_000000/pyenv/lib/python3.11/site-packages (from qiskit[visualization]) (3.0.3)\n",
      "Requirement already satisfied: Pillow>=4.2.1 in /opt/conda/lib/python3.11/site-packages (from qiskit[visualization]) (11.0.0)\n",
      "Requirement already satisfied: pylatexenc>=1.4 in /opt/.qbraid/environments/qbraid_000000/pyenv/lib/python3.11/site-packages (from qiskit[visualization]) (2.10)\n",
      "Requirement already satisfied: seaborn>=0.9.0 in /opt/.qbraid/environments/qbraid_000000/pyenv/lib/python3.11/site-packages (from qiskit[visualization]) (0.13.2)\n",
      "Requirement already satisfied: contourpy>=1.0.1 in /opt/conda/lib/python3.11/site-packages (from matplotlib>=3.3->qiskit[visualization]) (1.3.1)\n",
      "Requirement already satisfied: cycler>=0.10 in /opt/conda/lib/python3.11/site-packages (from matplotlib>=3.3->qiskit[visualization]) (0.12.1)\n",
      "Requirement already satisfied: fonttools>=4.22.0 in /opt/conda/lib/python3.11/site-packages (from matplotlib>=3.3->qiskit[visualization]) (4.55.2)\n",
      "Requirement already satisfied: kiwisolver>=1.3.1 in /opt/conda/lib/python3.11/site-packages (from matplotlib>=3.3->qiskit[visualization]) (1.4.7)\n",
      "Requirement already satisfied: packaging>=20.0 in /opt/conda/lib/python3.11/site-packages (from matplotlib>=3.3->qiskit[visualization]) (24.0)\n",
      "Requirement already satisfied: pyparsing>=2.3.1 in /opt/conda/lib/python3.11/site-packages (from matplotlib>=3.3->qiskit[visualization]) (3.2.0)\n",
      "Requirement already satisfied: six>=1.5 in /opt/conda/lib/python3.11/site-packages (from python-dateutil>=2.8.0->qiskit[visualization]) (1.16.0)\n",
      "Requirement already satisfied: pandas>=1.2 in /opt/conda/lib/python3.11/site-packages (from seaborn>=0.9.0->qiskit[visualization]) (2.2.3)\n",
      "Requirement already satisfied: pbr>=2.0.0 in /opt/.qbraid/environments/qbraid_000000/pyenv/lib/python3.11/site-packages (from stevedore>=3.0.0->qiskit[visualization]) (6.1.0)\n",
      "Requirement already satisfied: mpmath<1.4,>=1.1.0 in /opt/.qbraid/environments/qbraid_000000/pyenv/lib/python3.11/site-packages (from sympy>=1.3->qiskit[visualization]) (1.3.0)\n",
      "Requirement already satisfied: pytz>=2020.1 in /opt/conda/lib/python3.11/site-packages (from pandas>=1.2->seaborn>=0.9.0->qiskit[visualization]) (2024.1)\n",
      "Requirement already satisfied: tzdata>=2022.7 in /opt/conda/lib/python3.11/site-packages (from pandas>=1.2->seaborn>=0.9.0->qiskit[visualization]) (2024.2)\n",
      "Note: you may need to restart the kernel to use updated packages.\n"
     ]
    }
   ],
   "source": [
    "%pip install qiskit[visualization]"
   ]
  },
  {
   "cell_type": "code",
   "execution_count": 11,
   "id": "e84d2e7f-069a-413b-905b-0ab9964bd762",
   "metadata": {},
   "outputs": [
    {
     "name": "stdout",
     "output_type": "stream",
     "text": [
      "Requirement already satisfied: qiskit_aer in /opt/.qbraid/environments/qbraid_000000/pyenv/lib/python3.11/site-packages (0.15.1)\n",
      "Requirement already satisfied: qiskit>=1.1.0 in /opt/.qbraid/environments/qbraid_000000/pyenv/lib/python3.11/site-packages (from qiskit_aer) (1.3.0)\n",
      "Requirement already satisfied: numpy>=1.16.3 in /opt/conda/lib/python3.11/site-packages (from qiskit_aer) (1.26.4)\n",
      "Requirement already satisfied: scipy>=1.0 in /opt/.qbraid/environments/qbraid_000000/pyenv/lib/python3.11/site-packages (from qiskit_aer) (1.14.1)\n",
      "Requirement already satisfied: psutil>=5 in /opt/conda/lib/python3.11/site-packages (from qiskit_aer) (5.9.8)\n",
      "Requirement already satisfied: rustworkx>=0.15.0 in /opt/.qbraid/environments/qbraid_000000/pyenv/lib/python3.11/site-packages (from qiskit>=1.1.0->qiskit_aer) (0.15.1)\n",
      "Requirement already satisfied: sympy>=1.3 in /opt/.qbraid/environments/qbraid_000000/pyenv/lib/python3.11/site-packages (from qiskit>=1.1.0->qiskit_aer) (1.13.3)\n",
      "Requirement already satisfied: dill>=0.3 in /opt/.qbraid/environments/qbraid_000000/pyenv/lib/python3.11/site-packages (from qiskit>=1.1.0->qiskit_aer) (0.3.9)\n",
      "Requirement already satisfied: python-dateutil>=2.8.0 in /opt/conda/lib/python3.11/site-packages (from qiskit>=1.1.0->qiskit_aer) (2.9.0)\n",
      "Requirement already satisfied: stevedore>=3.0.0 in /opt/.qbraid/environments/qbraid_000000/pyenv/lib/python3.11/site-packages (from qiskit>=1.1.0->qiskit_aer) (5.4.0)\n",
      "Requirement already satisfied: typing-extensions in /opt/conda/lib/python3.11/site-packages (from qiskit>=1.1.0->qiskit_aer) (4.12.2)\n",
      "Requirement already satisfied: symengine<0.14,>=0.11 in /opt/.qbraid/environments/qbraid_000000/pyenv/lib/python3.11/site-packages (from qiskit>=1.1.0->qiskit_aer) (0.13.0)\n",
      "Requirement already satisfied: six>=1.5 in /opt/conda/lib/python3.11/site-packages (from python-dateutil>=2.8.0->qiskit>=1.1.0->qiskit_aer) (1.16.0)\n",
      "Requirement already satisfied: pbr>=2.0.0 in /opt/.qbraid/environments/qbraid_000000/pyenv/lib/python3.11/site-packages (from stevedore>=3.0.0->qiskit>=1.1.0->qiskit_aer) (6.1.0)\n",
      "Requirement already satisfied: mpmath<1.4,>=1.1.0 in /opt/.qbraid/environments/qbraid_000000/pyenv/lib/python3.11/site-packages (from sympy>=1.3->qiskit>=1.1.0->qiskit_aer) (1.3.0)\n",
      "Note: you may need to restart the kernel to use updated packages.\n"
     ]
    }
   ],
   "source": [
    "%pip install qiskit_aer"
   ]
  },
  {
   "cell_type": "code",
   "execution_count": 12,
   "id": "4d7abf8b-86e3-4bdc-9f1e-d306ddca42b6",
   "metadata": {},
   "outputs": [],
   "source": [
    "from qiskit_aer import AerSimulator"
   ]
  },
  {
   "cell_type": "markdown",
   "id": "9c15d4c8-e516-46ee-ac37-432f0eba4671",
   "metadata": {},
   "source": [
    "We've already implemented the Deutsch-Jozsa circuit above, and here we will make use of it to solve the Bernstein-Vazirani problem. First we'll define a function that implements a query gate for the Bernstein-Vazirani problem given any binary string \n",
    "s."
   ]
  },
  {
   "cell_type": "code",
   "execution_count": 13,
   "id": "a43d1bed-2b82-4e8b-b659-749b9eeedad5",
   "metadata": {},
   "outputs": [
    {
     "data": {
      "image/png": "[encoded data removed]",
      "text/plain": [
       "<Figure size 371.107x702.333 with 1 Axes>"
      ]
     },
     "metadata": {},
     "output_type": "display_data"
    }
   ],
   "source": [
    "# Replace ?\n",
    "from qiskit import QuantumCircuit\n",
    "import numpy as np\n",
    "\n",
    "def bv_function(s):\n",
    "    \"\"\"\n",
    "    Create a Bernstein-Vazirani function from a string of 1s and 0s.\n",
    "    \"\"\"\n",
    "    qc = QuantumCircuit(len(s) + 1)\n",
    "    for index, bit in enumerate(reversed(s)):\n",
    "        if bit == \"1\":\n",
    "            qc.cx(index, len(s))\n",
    "    return qc\n",
    "\n",
    "display(bv_function(\"1001001\").draw('mpl'))"
   ]
  },
  {
   "cell_type": "markdown",
   "id": "19e21a10-a9d2-45cc-bce5-317a0b33c2d1",
   "metadata": {},
   "source": [
    "Now we can run the Deutsch-Jozsa circuit on the function."
   ]
  },
  {
   "cell_type": "code",
   "execution_count": 14,
   "id": "7c07e05d-0486-47c0-a84b-d94fd4bdf64e",
   "metadata": {},
   "outputs": [],
   "source": [
    "# Replace ?\n",
    "def compile_circuit(function: QuantumCircuit):\n",
    "    \"\"\"\n",
    "    Compiles a circuit for use in the Deutsch-Jozsa algorithm.\n",
    "    \"\"\"\n",
    "    n = function.num_qubits - 1\n",
    "    qc = QuantumCircuit(n + 1, n)\n",
    "    qc.x(n)\n",
    "    qc.h(range(n + 1))\n",
    "    qc.compose(function, inplace=True)\n",
    "    qc.h(range(n))\n",
    "    qc.measure(range(n), range(n))\n",
    "    return qc"
   ]
  },
  {
   "cell_type": "code",
   "execution_count": 15,
   "id": "ae231b59-1069-4e0f-bfdb-57d070603f82",
   "metadata": {},
   "outputs": [
    {
     "data": {
      "text/plain": [
       "'1001001'"
      ]
     },
     "metadata": {},
     "output_type": "display_data"
    }
   ],
   "source": [
    "# Replace ?\n",
    "def bv_algorithm(function: QuantumCircuit):\n",
    "    qc = compile_circuit(function)\n",
    "    result = AerSimulator().run(qc, shots=1, memory=True).result()\n",
    "    return result.get_memory()[0]\n",
    "\n",
    "display(bv_algorithm(bv_function(\"1001001\")))"
   ]
  },
  {
   "cell_type": "markdown",
   "id": "ccc88b59-c1f7-4384-b9c0-50756fbf4fa7",
   "metadata": {},
   "source": [
    "# End of Notebook"
   ]
  }
 ],
 "metadata": {
  "kernelspec": {
   "display_name": "Python 3 [Default]",
   "language": "python",
   "name": "python3"
  },
  "language_info": {
   "codemirror_mode": {
    "name": "ipython",
    "version": 3
   },
   "file_extension": ".py",
   "mimetype": "text/x-python",
   "name": "python",
   "nbconvert_exporter": "python",
   "pygments_lexer": "ipython3",
   "version": "3.11.9"
  }
 },
 "nbformat": 4,
 "nbformat_minor": 5
}
