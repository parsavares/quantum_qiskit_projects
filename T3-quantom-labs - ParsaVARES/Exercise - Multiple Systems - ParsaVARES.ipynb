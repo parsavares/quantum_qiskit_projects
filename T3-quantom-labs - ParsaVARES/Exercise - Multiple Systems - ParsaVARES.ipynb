{
 "cells": [
  {
   "cell_type": "markdown",
   "id": "e212ecba-3c9a-49f0-9146-382652b39e6e",
   "metadata": {},
   "source": [
    "# Multiple Systems\n",
    "In the previous lesson, we learned about Qiskit's Statevector and Operator classes, and used them to simulate quantum systems. In this section, we'll use them to explore the behavior of multiple systems. We'll start by importing these classes, as well as the square root function from NumPy ."
   ]
  },
  {
   "cell_type": "code",
   "execution_count": 1,
   "id": "f5a9d848-0a8a-4d88-870d-5d9dee4f100b",
   "metadata": {},
   "outputs": [
    {
     "name": "stdout",
     "output_type": "stream",
     "text": [
      "Requirement already satisfied: qiskit[visualization] in /opt/.qbraid/environments/qbraid_000000/pyenv/lib/python3.11/site-packages (1.3.0)\n",
      "Requirement already satisfied: rustworkx>=0.15.0 in /opt/.qbraid/environments/qbraid_000000/pyenv/lib/python3.11/site-packages (from qiskit[visualization]) (0.15.1)\n",
      "Requirement already satisfied: numpy<3,>=1.17 in /opt/conda/lib/python3.11/site-packages (from qiskit[visualization]) (1.26.4)\n",
      "Requirement already satisfied: scipy>=1.5 in /opt/.qbraid/environments/qbraid_000000/pyenv/lib/python3.11/site-packages (from qiskit[visualization]) (1.14.1)\n",
      "Requirement already satisfied: sympy>=1.3 in /opt/.qbraid/environments/qbraid_000000/pyenv/lib/python3.11/site-packages (from qiskit[visualization]) (1.13.3)\n",
      "Requirement already satisfied: dill>=0.3 in /opt/.qbraid/environments/qbraid_000000/pyenv/lib/python3.11/site-packages (from qiskit[visualization]) (0.3.9)\n",
      "Requirement already satisfied: python-dateutil>=2.8.0 in /opt/conda/lib/python3.11/site-packages (from qiskit[visualization]) (2.9.0)\n",
      "Requirement already satisfied: stevedore>=3.0.0 in /opt/.qbraid/environments/qbraid_000000/pyenv/lib/python3.11/site-packages (from qiskit[visualization]) (5.4.0)\n",
      "Requirement already satisfied: typing-extensions in /opt/conda/lib/python3.11/site-packages (from qiskit[visualization]) (4.12.2)\n",
      "Requirement already satisfied: symengine<0.14,>=0.11 in /opt/.qbraid/environments/qbraid_000000/pyenv/lib/python3.11/site-packages (from qiskit[visualization]) (0.13.0)\n",
      "Requirement already satisfied: matplotlib>=3.3 in /opt/conda/lib/python3.11/site-packages (from qiskit[visualization]) (3.9.3)\n",
      "Requirement already satisfied: pydot in /opt/.qbraid/environments/qbraid_000000/pyenv/lib/python3.11/site-packages (from qiskit[visualization]) (3.0.3)\n",
      "Requirement already satisfied: Pillow>=4.2.1 in /opt/conda/lib/python3.11/site-packages (from qiskit[visualization]) (11.0.0)\n",
      "Requirement already satisfied: pylatexenc>=1.4 in /opt/.qbraid/environments/qbraid_000000/pyenv/lib/python3.11/site-packages (from qiskit[visualization]) (2.10)\n",
      "Requirement already satisfied: seaborn>=0.9.0 in /opt/.qbraid/environments/qbraid_000000/pyenv/lib/python3.11/site-packages (from qiskit[visualization]) (0.13.2)\n",
      "Requirement already satisfied: contourpy>=1.0.1 in /opt/conda/lib/python3.11/site-packages (from matplotlib>=3.3->qiskit[visualization]) (1.3.1)\n",
      "Requirement already satisfied: cycler>=0.10 in /opt/conda/lib/python3.11/site-packages (from matplotlib>=3.3->qiskit[visualization]) (0.12.1)\n",
      "Requirement already satisfied: fonttools>=4.22.0 in /opt/conda/lib/python3.11/site-packages (from matplotlib>=3.3->qiskit[visualization]) (4.55.2)\n",
      "Requirement already satisfied: kiwisolver>=1.3.1 in /opt/conda/lib/python3.11/site-packages (from matplotlib>=3.3->qiskit[visualization]) (1.4.7)\n",
      "Requirement already satisfied: packaging>=20.0 in /opt/conda/lib/python3.11/site-packages (from matplotlib>=3.3->qiskit[visualization]) (24.0)\n",
      "Requirement already satisfied: pyparsing>=2.3.1 in /opt/conda/lib/python3.11/site-packages (from matplotlib>=3.3->qiskit[visualization]) (3.2.0)\n",
      "Requirement already satisfied: six>=1.5 in /opt/conda/lib/python3.11/site-packages (from python-dateutil>=2.8.0->qiskit[visualization]) (1.16.0)\n",
      "Requirement already satisfied: pandas>=1.2 in /opt/conda/lib/python3.11/site-packages (from seaborn>=0.9.0->qiskit[visualization]) (2.2.3)\n",
      "Requirement already satisfied: pbr>=2.0.0 in /opt/.qbraid/environments/qbraid_000000/pyenv/lib/python3.11/site-packages (from stevedore>=3.0.0->qiskit[visualization]) (6.1.0)\n",
      "Requirement already satisfied: mpmath<1.4,>=1.1.0 in /opt/.qbraid/environments/qbraid_000000/pyenv/lib/python3.11/site-packages (from sympy>=1.3->qiskit[visualization]) (1.3.0)\n",
      "Requirement already satisfied: pytz>=2020.1 in /opt/conda/lib/python3.11/site-packages (from pandas>=1.2->seaborn>=0.9.0->qiskit[visualization]) (2024.1)\n",
      "Requirement already satisfied: tzdata>=2022.7 in /opt/conda/lib/python3.11/site-packages (from pandas>=1.2->seaborn>=0.9.0->qiskit[visualization]) (2024.2)\n",
      "Note: you may need to restart the kernel to use updated packages.\n"
     ]
    }
   ],
   "source": [
    "%pip install qiskit[visualization]"
   ]
  },
  {
   "cell_type": "code",
   "execution_count": 2,
   "id": "474fdd71-7907-43f8-9e81-900c70427c61",
   "metadata": {},
   "outputs": [],
   "source": [
    "from qiskit.quantum_info import Statevector, Operator\n",
    "from numpy import sqrt"
   ]
  },
  {
   "cell_type": "markdown",
   "id": "e13c6ee7-eaef-414b-9abd-d5221151341b",
   "metadata": {},
   "source": [
    "# Tensor products\n",
    "The Statevector class has a tensor method which returns the tensor product of itself and another Statevector .\n",
    "For example, below we create two state vectors representing \n",
    "∣0⟩ and ∣1⟩, and use the tensor method to create a new vector, \n",
    "∣0⟩⊗∣1⟩."
   ]
  },
  {
   "cell_type": "code",
   "execution_count": 4,
   "id": "2e7c6252-9a45-4b17-b5b6-db8f0da045d1",
   "metadata": {},
   "outputs": [
    {
     "data": {
      "text/latex": [
       "$$ |01\\rangle$$"
      ],
      "text/plain": [
       "<IPython.core.display.Latex object>"
      ]
     },
     "execution_count": 4,
     "metadata": {},
     "output_type": "execute_result"
    }
   ],
   "source": [
    "# Replace ?\n",
    "zero, one = Statevector.from_label(\"0\"), Statevector.from_label(\"1\")\n",
    "zero.tensor(one).draw(\"latex\")"
   ]
  },
  {
   "cell_type": "markdown",
   "id": "bc5df6cc-e9be-42cc-9d76-e639ff0fab04",
   "metadata": {},
   "source": [
    "In another example below, we create state vectors representing the \n",
    "∣+⟩ and (∣0⟩+i∣1⟩)/sqrt(2) states, and combine them to create a new state vector. \n",
    "We'll assign this new vector to the variable psi ."
   ]
  },
  {
   "cell_type": "code",
   "execution_count": 5,
   "id": "0e4a0a02-15a6-44d2-8f6b-7b4b1bfc0cff",
   "metadata": {},
   "outputs": [
    {
     "data": {
      "text/latex": [
       "$$\\frac{1}{2} |00\\rangle+\\frac{i}{2} |01\\rangle+\\frac{1}{2} |10\\rangle+\\frac{i}{2} |11\\rangle$$"
      ],
      "text/plain": [
       "<IPython.core.display.Latex object>"
      ]
     },
     "execution_count": 5,
     "metadata": {},
     "output_type": "execute_result"
    }
   ],
   "source": [
    "# Replace ?\n",
    "plus = Statevector.from_label(\"+\")\n",
    "i_state = Statevector([1 / sqrt(2), 1j / sqrt(2)])\n",
    "psi = plus.tensor(i_state)\n",
    "\n",
    "psi.draw(\"latex\")"
   ]
  },
  {
   "cell_type": "markdown",
   "id": "67946772-be0e-4c3d-bc1f-5b7f8b510418",
   "metadata": {},
   "source": [
    "The Operator class also has a tensor method. In the example below, we create the \n",
    "X and I gates and display their tensor product."
   ]
  },
  {
   "cell_type": "code",
   "execution_count": 6,
   "id": "598c6808-2fb2-4a4e-b4d3-8ba2e943a86b",
   "metadata": {},
   "outputs": [
    {
     "name": "stdout",
     "output_type": "stream",
     "text": [
      "Operator([[0.+0.j, 0.+0.j, 1.+0.j, 0.+0.j],\n",
      "          [0.+0.j, 0.+0.j, 0.+0.j, 1.+0.j],\n",
      "          [1.+0.j, 0.+0.j, 0.+0.j, 0.+0.j],\n",
      "          [0.+0.j, 1.+0.j, 0.+0.j, 0.+0.j]],\n",
      "         input_dims=(2, 2), output_dims=(2, 2))\n"
     ]
    }
   ],
   "source": [
    "# Replace ?\n",
    "X = Operator([[0, 1], [1, 0]])\n",
    "I = Operator([[1, 0], [0, 1]])\n",
    "\n",
    "X.tensor(I)"
   ]
  },
  {
   "cell_type": "markdown",
   "id": "75ecdab0-72d1-479a-bbf6-278fb6e681c3",
   "metadata": {},
   "source": [
    "We can then treat these compound states and operations as we did single systems in the previous lesson. For example, in the cell below we calculate (I⊗X)∣ψ⟩ for the state psi we defined above. (The ^ operator tensors matrices together.)"
   ]
  },
  {
   "cell_type": "code",
   "execution_count": 7,
   "id": "6ed8d286-1293-46e4-be25-1f2e3019457e",
   "metadata": {},
   "outputs": [
    {
     "data": {
      "text/latex": [
       "$$\\frac{1}{2} |00\\rangle+\\frac{i}{2} |01\\rangle+\\frac{1}{2} |10\\rangle+\\frac{i}{2} |11\\rangle$$"
      ],
      "text/plain": [
       "<IPython.core.display.Latex object>"
      ]
     },
     "execution_count": 7,
     "metadata": {},
     "output_type": "execute_result"
    }
   ],
   "source": [
    "# Replace ?\n",
    "psi.evolve(X ^ I).draw(\"latex\")"
   ]
  },
  {
   "cell_type": "markdown",
   "id": "9c82cf0a-8296-4cba-844d-a6d07806bb91",
   "metadata": {},
   "source": [
    "Below, we create a \n",
    "CX operator and calculate \n",
    "CX∣ψ⟩."
   ]
  },
  {
   "cell_type": "code",
   "execution_count": 9,
   "id": "256513ed-c0ea-4d6e-9ef2-42c2b40ac57f",
   "metadata": {},
   "outputs": [
    {
     "data": {
      "text/latex": [
       "$$\\frac{1}{2} |00\\rangle+\\frac{i}{2} |01\\rangle+\\frac{1}{2} |10\\rangle+\\frac{i}{2} |11\\rangle$$"
      ],
      "text/plain": [
       "<IPython.core.display.Latex object>"
      ]
     },
     "execution_count": 9,
     "metadata": {},
     "output_type": "execute_result"
    }
   ],
   "source": [
    "# Replace ?\n",
    "CX = Operator(\n",
    "    [\n",
    "        [1, 0, 0, 0],\n",
    "        [0, 0, 0, 1],\n",
    "        [0, 0, 1, 0],\n",
    "        [0, 1, 0, 0],\n",
    "    ]\n",
    ")\n",
    "\n",
    "psi.evolve(CX).draw(\"latex\")"
   ]
  },
  {
   "cell_type": "markdown",
   "id": "6b8d5058-26a3-4b9d-ae6b-7eb6f4ab276f",
   "metadata": {},
   "source": [
    "# Partial measurements\n",
    "In the previous part, we used the measure method to simulate a measurement of the quantum state vector. \n",
    "\n",
    "This method returns two items: the simulated measurement result, and the new Statevector given this measurement.\n",
    "\n",
    "By default, `measure` measures all qubits in the state vector, but we can provide a list of integers to only \n",
    "measure the qubits at those indices. To demonstrate, the cell below creates the state\n",
    "W = 1/sqrt(3) (∣001⟩+∣010⟩+∣100⟩).\n",
    "\n",
    "Note that Qiskit is primarily designed for use with qubit-based digital quantum computers.\n",
    "As such, Statevector will try to interpret any vector with 2**n elements as a system of n qubits. \n",
    "\n",
    "You can override this by passing a dims argument to the constructor. \n",
    "For example, dims=(4,2) would tell Qiskit the system has one four-level system, and one two-level system (qubit).)"
   ]
  },
  {
   "cell_type": "code",
   "execution_count": 10,
   "id": "c2914a02-a896-4915-8050-367dd36dd6bd",
   "metadata": {},
   "outputs": [
    {
     "data": {
      "text/latex": [
       "$$\\frac{\\sqrt{3}}{3} |001\\rangle+\\frac{\\sqrt{3}}{3} |010\\rangle+\\frac{\\sqrt{3}}{3} |100\\rangle$$"
      ],
      "text/plain": [
       "<IPython.core.display.Latex object>"
      ]
     },
     "execution_count": 10,
     "metadata": {},
     "output_type": "execute_result"
    }
   ],
   "source": [
    "W = Statevector([0, 1, 1, 0, 1, 0, 0, 0] / sqrt(3))\n",
    "W.draw(\"latex\")"
   ]
  },
  {
   "cell_type": "markdown",
   "id": "a472f164-3e5e-4c6f-a0b3-0c19a4ee6793",
   "metadata": {},
   "source": [
    "The cell below simulates a measurement on the rightmost qubit (which has index 0). The other two qubits are not measured."
   ]
  },
  {
   "cell_type": "code",
   "execution_count": 11,
   "id": "f97ce974-45a1-4dfa-9742-b48eecf77ae8",
   "metadata": {},
   "outputs": [
    {
     "name": "stdout",
     "output_type": "stream",
     "text": [
      "Measured: 0\n",
      "State after measurement:\n"
     ]
    },
    {
     "data": {
      "text/latex": [
       "$$\\frac{\\sqrt{2}}{2} |010\\rangle+\\frac{\\sqrt{2}}{2} |100\\rangle$$"
      ],
      "text/plain": [
       "<IPython.core.display.Latex object>"
      ]
     },
     "execution_count": 11,
     "metadata": {},
     "output_type": "execute_result"
    }
   ],
   "source": [
    "result, new_sv = W.measure([0])  # measure qubit 0\n",
    "print(f\"Measured: {result}\\nState after measurement:\")\n",
    "new_sv.draw(\"latex\")"
   ]
  },
  {
   "cell_type": "markdown",
   "id": "922017fc-8f2a-406b-b763-d3186c7447ab",
   "metadata": {},
   "source": [
    "Try running the cell a few times to see different results. \n",
    "Notice that measuring a 1 means that we know both the other qubits are \n",
    "∣0⟩, but measuring a 0 means the remaining two qubits are in the state \n",
    "1/sqrt(2) x (∣01⟩+∣10⟩).\n",
    "\n",
    "***Repeat this in the cells below!***"
   ]
  },
  {
   "cell_type": "markdown",
   "id": "eb1a5df0-871b-4c38-b559-c4c4fea01a6a",
   "metadata": {},
   "source": [
    "The cells below simulates another measurement on the rightmost qubit (which has index 0). The other two qubits are not measured."
   ]
  },
  {
   "cell_type": "code",
   "execution_count": null,
   "id": "16f5b27c-bf58-439c-a0a2-6d45ccf683f5",
   "metadata": {},
   "outputs": [],
   "source": [
    "# Replace ?\n",
    "W = ???????????([0, 1, 1, 0, 1, 0, 0, 0] / sqrt(3))\n",
    "W.draw(\"latex\")"
   ]
  },
  {
   "cell_type": "code",
   "execution_count": null,
   "id": "17e54f4b-53bd-40e9-80e8-a8df8076c6d3",
   "metadata": {},
   "outputs": [],
   "source": [
    "# Replace?\n",
    "result, new_sv = W.measure([0])  # measure qubit 0\n",
    "print(f\"Measured: {result}\\nState after measurement:\")\n",
    "new_sv.draw(\"latex\")"
   ]
  },
  {
   "cell_type": "markdown",
   "id": "f49b7aa6-f98c-42c8-9160-c1ddadb3b452",
   "metadata": {},
   "source": [
    "# End of Notebook"
   ]
  }
 ],
 "metadata": {
  "kernelspec": {
   "display_name": "Python 3 [Default]",
   "language": "python",
   "name": "python3"
  },
  "language_info": {
   "codemirror_mode": {
    "name": "ipython",
    "version": 3
   },
   "file_extension": ".py",
   "mimetype": "text/x-python",
   "name": "python",
   "nbconvert_exporter": "python",
   "pygments_lexer": "ipython3",
   "version": "3.11.9"
  }
 },
 "nbformat": 4,
 "nbformat_minor": 5
}
