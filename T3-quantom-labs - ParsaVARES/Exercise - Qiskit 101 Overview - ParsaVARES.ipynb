{
 "cells": [
  {
   "cell_type": "markdown",
   "id": "c3818ac2-db9a-4d43-bd2e-eb8f62380f1e",
   "metadata": {},
   "source": [
    "# Qiskit 101"
   ]
  },
  {
   "cell_type": "code",
   "execution_count": 111,
   "id": "037c3305-519c-4ad2-aaa8-f0e8e18fedd0",
   "metadata": {},
   "outputs": [
    {
     "name": "stdout",
     "output_type": "stream",
     "text": [
      "Requirement already satisfied: qiskit[visualization] in /opt/.qbraid/environments/qbraid_000000/pyenv/lib/python3.11/site-packages (1.3.1)\n",
      "Requirement already satisfied: rustworkx>=0.15.0 in /opt/.qbraid/environments/qbraid_000000/pyenv/lib/python3.11/site-packages (from qiskit[visualization]) (0.15.1)\n",
      "Requirement already satisfied: numpy<3,>=1.17 in /opt/conda/lib/python3.11/site-packages (from qiskit[visualization]) (1.26.4)\n",
      "Requirement already satisfied: scipy>=1.5 in /opt/.qbraid/environments/qbraid_000000/pyenv/lib/python3.11/site-packages (from qiskit[visualization]) (1.14.1)\n",
      "Requirement already satisfied: sympy>=1.3 in /opt/.qbraid/environments/qbraid_000000/pyenv/lib/python3.11/site-packages (from qiskit[visualization]) (1.13.3)\n",
      "Requirement already satisfied: dill>=0.3 in /opt/.qbraid/environments/qbraid_000000/pyenv/lib/python3.11/site-packages (from qiskit[visualization]) (0.3.9)\n",
      "Requirement already satisfied: python-dateutil>=2.8.0 in /opt/conda/lib/python3.11/site-packages (from qiskit[visualization]) (2.9.0)\n",
      "Requirement already satisfied: stevedore>=3.0.0 in /opt/.qbraid/environments/qbraid_000000/pyenv/lib/python3.11/site-packages (from qiskit[visualization]) (5.4.0)\n",
      "Requirement already satisfied: typing-extensions in /opt/conda/lib/python3.11/site-packages (from qiskit[visualization]) (4.12.2)\n",
      "Requirement already satisfied: symengine<0.14,>=0.11 in /opt/.qbraid/environments/qbraid_000000/pyenv/lib/python3.11/site-packages (from qiskit[visualization]) (0.13.0)\n",
      "Requirement already satisfied: matplotlib>=3.3 in /opt/conda/lib/python3.11/site-packages (from qiskit[visualization]) (3.9.3)\n",
      "Requirement already satisfied: pydot in /opt/.qbraid/environments/qbraid_000000/pyenv/lib/python3.11/site-packages (from qiskit[visualization]) (3.0.3)\n",
      "Requirement already satisfied: Pillow>=4.2.1 in /opt/conda/lib/python3.11/site-packages (from qiskit[visualization]) (11.0.0)\n",
      "Requirement already satisfied: pylatexenc>=1.4 in /opt/.qbraid/environments/qbraid_000000/pyenv/lib/python3.11/site-packages (from qiskit[visualization]) (2.10)\n",
      "Requirement already satisfied: seaborn>=0.9.0 in /opt/.qbraid/environments/qbraid_000000/pyenv/lib/python3.11/site-packages (from qiskit[visualization]) (0.13.2)\n",
      "Requirement already satisfied: contourpy>=1.0.1 in /opt/conda/lib/python3.11/site-packages (from matplotlib>=3.3->qiskit[visualization]) (1.3.1)\n",
      "Requirement already satisfied: cycler>=0.10 in /opt/conda/lib/python3.11/site-packages (from matplotlib>=3.3->qiskit[visualization]) (0.12.1)\n",
      "Requirement already satisfied: fonttools>=4.22.0 in /opt/conda/lib/python3.11/site-packages (from matplotlib>=3.3->qiskit[visualization]) (4.55.2)\n",
      "Requirement already satisfied: kiwisolver>=1.3.1 in /opt/conda/lib/python3.11/site-packages (from matplotlib>=3.3->qiskit[visualization]) (1.4.7)\n",
      "Requirement already satisfied: packaging>=20.0 in /opt/conda/lib/python3.11/site-packages (from matplotlib>=3.3->qiskit[visualization]) (24.0)\n",
      "Requirement already satisfied: pyparsing>=2.3.1 in /opt/conda/lib/python3.11/site-packages (from matplotlib>=3.3->qiskit[visualization]) (3.2.0)\n",
      "Requirement already satisfied: six>=1.5 in /opt/conda/lib/python3.11/site-packages (from python-dateutil>=2.8.0->qiskit[visualization]) (1.16.0)\n",
      "Requirement already satisfied: pandas>=1.2 in /opt/conda/lib/python3.11/site-packages (from seaborn>=0.9.0->qiskit[visualization]) (2.2.3)\n",
      "Requirement already satisfied: pbr>=2.0.0 in /opt/.qbraid/environments/qbraid_000000/pyenv/lib/python3.11/site-packages (from stevedore>=3.0.0->qiskit[visualization]) (6.1.0)\n",
      "Requirement already satisfied: mpmath<1.4,>=1.1.0 in /opt/.qbraid/environments/qbraid_000000/pyenv/lib/python3.11/site-packages (from sympy>=1.3->qiskit[visualization]) (1.3.0)\n",
      "Requirement already satisfied: pytz>=2020.1 in /opt/conda/lib/python3.11/site-packages (from pandas>=1.2->seaborn>=0.9.0->qiskit[visualization]) (2024.1)\n",
      "Requirement already satisfied: tzdata>=2022.7 in /opt/conda/lib/python3.11/site-packages (from pandas>=1.2->seaborn>=0.9.0->qiskit[visualization]) (2024.2)\n",
      "Note: you may need to restart the kernel to use updated packages.\n"
     ]
    }
   ],
   "source": [
    "%pip install qiskit[visualization]"
   ]
  },
  {
   "cell_type": "markdown",
   "id": "96ca8f2e-ff8f-45c5-aff0-2c814d5470f6",
   "metadata": {},
   "source": [
    "# Build a Circuit with Qiskit"
   ]
  },
  {
   "cell_type": "code",
   "execution_count": 112,
   "id": "5ff02eff-4b13-49c4-8f44-cb92358d5a4b",
   "metadata": {},
   "outputs": [],
   "source": [
    "from qiskit import QuantumCircuit, QuantumRegister"
   ]
  },
  {
   "cell_type": "code",
   "execution_count": 113,
   "id": "d90ca0da-2b42-4585-9b51-06b1d795b1ab",
   "metadata": {},
   "outputs": [],
   "source": [
    "qubits = QuantumRegister(2, name = \"q\")"
   ]
  },
  {
   "cell_type": "code",
   "execution_count": 114,
   "id": "1ff9bb32-ee15-4968-8284-eea68a078825",
   "metadata": {},
   "outputs": [],
   "source": [
    "circuit = QuantumCircuit(qubits)"
   ]
  },
  {
   "cell_type": "code",
   "execution_count": 115,
   "id": "6c321dfd-1376-4517-9c50-6ebaa6b23f40",
   "metadata": {},
   "outputs": [],
   "source": [
    "q0, q1 = qubits"
   ]
  },
  {
   "cell_type": "code",
   "execution_count": 116,
   "id": "e26c6520-ed12-4c83-80af-cd918682be30",
   "metadata": {},
   "outputs": [
    {
     "data": {
      "text/plain": [
       "<qiskit.circuit.instructionset.InstructionSet at 0x7cef9776fc10>"
      ]
     },
     "execution_count": 116,
     "metadata": {},
     "output_type": "execute_result"
    }
   ],
   "source": [
    "# Create the First Bell State\n",
    "# Replace the '?'\n",
    "#############################\n",
    "circuit.h(q0)\n",
    "circuit.cx(q0, q1)"
   ]
  },
  {
   "cell_type": "code",
   "execution_count": 117,
   "id": "927697d6-1535-4434-9780-997aa79acd76",
   "metadata": {},
   "outputs": [
    {
     "data": {
      "image/png": "[encoded data removed]",
      "text/plain": [
       "<Figure size 287.294x200.667 with 1 Axes>"
      ]
     },
     "execution_count": 117,
     "metadata": {},
     "output_type": "execute_result"
    }
   ],
   "source": [
    "circuit.draw('mpl')"
   ]
  },
  {
   "cell_type": "markdown",
   "id": "b7ae86af-9fba-40dc-908f-e1bce191f66b",
   "metadata": {},
   "source": [
    "# Transpile a Circuit with Qiskit Presets"
   ]
  },
  {
   "cell_type": "code",
   "execution_count": 118,
   "id": "2da05d54-266e-4f1c-b96f-4acba5559b34",
   "metadata": {},
   "outputs": [
    {
     "name": "stdout",
     "output_type": "stream",
     "text": [
      "Requirement already satisfied: qiskit-ibm-runtime in /opt/.qbraid/environments/qbraid_000000/pyenv/lib/python3.11/site-packages (0.34.0)\n",
      "Requirement already satisfied: requests>=2.19 in /opt/conda/lib/python3.11/site-packages (from qiskit-ibm-runtime) (2.31.0)\n",
      "Requirement already satisfied: requests-ntlm>=1.1.0 in /opt/.qbraid/environments/qbraid_000000/pyenv/lib/python3.11/site-packages (from qiskit-ibm-runtime) (1.3.0)\n",
      "Requirement already satisfied: numpy>=1.13 in /opt/conda/lib/python3.11/site-packages (from qiskit-ibm-runtime) (1.26.4)\n",
      "Requirement already satisfied: urllib3>=1.21.1 in /opt/conda/lib/python3.11/site-packages (from qiskit-ibm-runtime) (2.2.1)\n",
      "Requirement already satisfied: python-dateutil>=2.8.0 in /opt/conda/lib/python3.11/site-packages (from qiskit-ibm-runtime) (2.9.0)\n",
      "Requirement already satisfied: websocket-client>=1.5.1 in /opt/conda/lib/python3.11/site-packages (from qiskit-ibm-runtime) (1.8.0)\n",
      "Requirement already satisfied: ibm-platform-services>=0.22.6 in /opt/.qbraid/environments/qbraid_000000/pyenv/lib/python3.11/site-packages (from qiskit-ibm-runtime) (0.59.0)\n",
      "Requirement already satisfied: pydantic<2.10,>=2.5.0 in /opt/.qbraid/environments/qbraid_000000/pyenv/lib/python3.11/site-packages (from qiskit-ibm-runtime) (2.9.2)\n",
      "Requirement already satisfied: qiskit>=1.1.0 in /opt/.qbraid/environments/qbraid_000000/pyenv/lib/python3.11/site-packages (from qiskit-ibm-runtime) (1.3.1)\n",
      "Requirement already satisfied: ibm-cloud-sdk-core<4.0.0,>=3.22.0 in /opt/.qbraid/environments/qbraid_000000/pyenv/lib/python3.11/site-packages (from ibm-platform-services>=0.22.6->qiskit-ibm-runtime) (3.22.0)\n",
      "Requirement already satisfied: annotated-types>=0.6.0 in /opt/conda/lib/python3.11/site-packages (from pydantic<2.10,>=2.5.0->qiskit-ibm-runtime) (0.7.0)\n",
      "Requirement already satisfied: pydantic-core==2.23.4 in /opt/.qbraid/environments/qbraid_000000/pyenv/lib/python3.11/site-packages (from pydantic<2.10,>=2.5.0->qiskit-ibm-runtime) (2.23.4)\n",
      "Requirement already satisfied: typing-extensions>=4.6.1 in /opt/conda/lib/python3.11/site-packages (from pydantic<2.10,>=2.5.0->qiskit-ibm-runtime) (4.12.2)\n",
      "Requirement already satisfied: six>=1.5 in /opt/conda/lib/python3.11/site-packages (from python-dateutil>=2.8.0->qiskit-ibm-runtime) (1.16.0)\n",
      "Requirement already satisfied: rustworkx>=0.15.0 in /opt/.qbraid/environments/qbraid_000000/pyenv/lib/python3.11/site-packages (from qiskit>=1.1.0->qiskit-ibm-runtime) (0.15.1)\n",
      "Requirement already satisfied: scipy>=1.5 in /opt/.qbraid/environments/qbraid_000000/pyenv/lib/python3.11/site-packages (from qiskit>=1.1.0->qiskit-ibm-runtime) (1.14.1)\n",
      "Requirement already satisfied: sympy>=1.3 in /opt/.qbraid/environments/qbraid_000000/pyenv/lib/python3.11/site-packages (from qiskit>=1.1.0->qiskit-ibm-runtime) (1.13.3)\n",
      "Requirement already satisfied: dill>=0.3 in /opt/.qbraid/environments/qbraid_000000/pyenv/lib/python3.11/site-packages (from qiskit>=1.1.0->qiskit-ibm-runtime) (0.3.9)\n",
      "Requirement already satisfied: stevedore>=3.0.0 in /opt/.qbraid/environments/qbraid_000000/pyenv/lib/python3.11/site-packages (from qiskit>=1.1.0->qiskit-ibm-runtime) (5.4.0)\n",
      "Requirement already satisfied: symengine<0.14,>=0.11 in /opt/.qbraid/environments/qbraid_000000/pyenv/lib/python3.11/site-packages (from qiskit>=1.1.0->qiskit-ibm-runtime) (0.13.0)\n",
      "Requirement already satisfied: charset-normalizer<4,>=2 in /opt/conda/lib/python3.11/site-packages (from requests>=2.19->qiskit-ibm-runtime) (3.3.2)\n",
      "Requirement already satisfied: idna<4,>=2.5 in /opt/conda/lib/python3.11/site-packages (from requests>=2.19->qiskit-ibm-runtime) (3.7)\n",
      "Requirement already satisfied: certifi>=2017.4.17 in /opt/conda/lib/python3.11/site-packages (from requests>=2.19->qiskit-ibm-runtime) (2024.2.2)\n",
      "Requirement already satisfied: cryptography>=1.3 in /opt/conda/lib/python3.11/site-packages (from requests-ntlm>=1.1.0->qiskit-ibm-runtime) (42.0.7)\n",
      "Requirement already satisfied: pyspnego>=0.4.0 in /opt/.qbraid/environments/qbraid_000000/pyenv/lib/python3.11/site-packages (from requests-ntlm>=1.1.0->qiskit-ibm-runtime) (0.11.2)\n",
      "Requirement already satisfied: cffi>=1.12 in /opt/conda/lib/python3.11/site-packages (from cryptography>=1.3->requests-ntlm>=1.1.0->qiskit-ibm-runtime) (1.16.0)\n",
      "Requirement already satisfied: PyJWT<3.0.0,>=2.8.0 in /opt/conda/lib/python3.11/site-packages (from ibm-cloud-sdk-core<4.0.0,>=3.22.0->ibm-platform-services>=0.22.6->qiskit-ibm-runtime) (2.8.0)\n",
      "Requirement already satisfied: pbr>=2.0.0 in /opt/.qbraid/environments/qbraid_000000/pyenv/lib/python3.11/site-packages (from stevedore>=3.0.0->qiskit>=1.1.0->qiskit-ibm-runtime) (6.1.0)\n",
      "Requirement already satisfied: mpmath<1.4,>=1.1.0 in /opt/.qbraid/environments/qbraid_000000/pyenv/lib/python3.11/site-packages (from sympy>=1.3->qiskit>=1.1.0->qiskit-ibm-runtime) (1.3.0)\n",
      "Requirement already satisfied: pycparser in /opt/conda/lib/python3.11/site-packages (from cffi>=1.12->cryptography>=1.3->requests-ntlm>=1.1.0->qiskit-ibm-runtime) (2.22)\n",
      "Note: you may need to restart the kernel to use updated packages.\n"
     ]
    }
   ],
   "source": [
    "%pip install qiskit-ibm-runtime"
   ]
  },
  {
   "cell_type": "code",
   "execution_count": 119,
   "id": "8eb4091a-89d2-440e-8f75-c8570619814e",
   "metadata": {},
   "outputs": [],
   "source": [
    "from qiskit import QuantumCircuit, QuantumRegister"
   ]
  },
  {
   "cell_type": "code",
   "execution_count": 120,
   "id": "82d00748-b7da-4f62-bdbf-d04f440824c5",
   "metadata": {},
   "outputs": [],
   "source": [
    "from qiskit.transpiler.preset_passmanagers import generate_preset_pass_manager"
   ]
  },
  {
   "cell_type": "code",
   "execution_count": 121,
   "id": "02bd93b9-31f0-4888-b239-42e202d724df",
   "metadata": {},
   "outputs": [],
   "source": [
    "from qiskit_ibm_runtime import QiskitRuntimeService"
   ]
  },
  {
   "cell_type": "code",
   "execution_count": 122,
   "id": "f3487e14-d670-40af-b73e-aedefa7ca9ce",
   "metadata": {},
   "outputs": [],
   "source": [
    "qubits = QuantumRegister(2, name=\"q\")"
   ]
  },
  {
   "cell_type": "code",
   "execution_count": 123,
   "id": "a261f6d5-3c32-4fec-b8e8-30b4b37525b0",
   "metadata": {},
   "outputs": [],
   "source": [
    "circuit = QuantumCircuit(qubits)"
   ]
  },
  {
   "cell_type": "code",
   "execution_count": 124,
   "id": "d6470875-7b4c-4c8c-b284-94faba8621b2",
   "metadata": {},
   "outputs": [],
   "source": [
    "q0, q1 = qubits"
   ]
  },
  {
   "cell_type": "code",
   "execution_count": 125,
   "id": "1ff4521f-cfe4-440a-b352-16124458ea45",
   "metadata": {},
   "outputs": [
    {
     "data": {
      "text/plain": [
       "<qiskit.circuit.instructionset.InstructionSet at 0x7cef97667250>"
      ]
     },
     "execution_count": 125,
     "metadata": {},
     "output_type": "execute_result"
    }
   ],
   "source": [
    "# Create again the First Bell State\n",
    "# Replace the ?\n",
    "###################################\n",
    "circuit.h(q0)\n",
    "circuit.cx(q0, q1)"
   ]
  },
  {
   "cell_type": "code",
   "execution_count": 126,
   "id": "a0d39bc1-3ac5-42f9-a1df-7a0f4b12fcc6",
   "metadata": {},
   "outputs": [],
   "source": [
    "from qiskit_ibm_runtime import QiskitRuntimeService\n",
    "\n",
    "service = QiskitRuntimeService(\n",
    "    channel='ibm_quantum',\n",
    "    instance='ibm-q/open/main',\n",
    "    token='ca510ffa26e7cab3a62660e5dfc40269bcec1b1e369333737ff46892bc37b489d6538948eac6fd55a43f7370435debcd36da4cb6a88348ed62279f1fffbd635a'\n",
    ")"
   ]
  },
  {
   "cell_type": "code",
   "execution_count": 127,
   "id": "a63cf682-ecd8-4202-970d-bd2a62694c36",
   "metadata": {},
   "outputs": [],
   "source": [
    "# Select a Backend\n",
    "# Replace the ?\n",
    "###################\n",
    "backend = service.least_busy(simulator=False)"
   ]
  },
  {
   "cell_type": "code",
   "execution_count": 128,
   "id": "fab8e3eb-3000-41c8-a621-d37aec130f54",
   "metadata": {},
   "outputs": [],
   "source": [
    "# Replace the ?\n",
    "pass_manager = generate_preset_pass_manager(1, backend=backend)\n",
    "### Light Optimization (levels are between 0 and 3)"
   ]
  },
  {
   "cell_type": "code",
   "execution_count": 129,
   "id": "a6c9f94b-2d05-4f84-86d4-f52a60adb3fc",
   "metadata": {},
   "outputs": [],
   "source": [
    "# Replace the ?\n",
    "transpiled = pass_manager.run(circuit)"
   ]
  },
  {
   "cell_type": "code",
   "execution_count": 130,
   "id": "96be2b20-8384-4306-b4cc-c54ecf3a11bd",
   "metadata": {},
   "outputs": [
    {
     "data": {
      "image/png": "[encoded data removed]",
      "text/plain": [
       "<Figure size 757.83x200.667 with 1 Axes>"
      ]
     },
     "execution_count": 130,
     "metadata": {},
     "output_type": "execute_result"
    }
   ],
   "source": [
    "transpiled.draw(\"mpl\", idle_wires=False)"
   ]
  },
  {
   "cell_type": "markdown",
   "id": "b27f8f40-f1fa-48be-b02b-444c3541db61",
   "metadata": {},
   "source": [
    "# The Esitmator Primitive"
   ]
  },
  {
   "cell_type": "code",
   "execution_count": 131,
   "id": "38b25995-20ed-4fd3-b46e-ee3122b9a129",
   "metadata": {},
   "outputs": [
    {
     "name": "stdout",
     "output_type": "stream",
     "text": [
      "Requirement already satisfied: qiskit-aer in /opt/.qbraid/environments/qbraid_000000/pyenv/lib/python3.11/site-packages (0.15.1)\n",
      "Requirement already satisfied: qiskit>=1.1.0 in /opt/.qbraid/environments/qbraid_000000/pyenv/lib/python3.11/site-packages (from qiskit-aer) (1.3.1)\n",
      "Requirement already satisfied: numpy>=1.16.3 in /opt/conda/lib/python3.11/site-packages (from qiskit-aer) (1.26.4)\n",
      "Requirement already satisfied: scipy>=1.0 in /opt/.qbraid/environments/qbraid_000000/pyenv/lib/python3.11/site-packages (from qiskit-aer) (1.14.1)\n",
      "Requirement already satisfied: psutil>=5 in /opt/conda/lib/python3.11/site-packages (from qiskit-aer) (5.9.8)\n",
      "Requirement already satisfied: rustworkx>=0.15.0 in /opt/.qbraid/environments/qbraid_000000/pyenv/lib/python3.11/site-packages (from qiskit>=1.1.0->qiskit-aer) (0.15.1)\n",
      "Requirement already satisfied: sympy>=1.3 in /opt/.qbraid/environments/qbraid_000000/pyenv/lib/python3.11/site-packages (from qiskit>=1.1.0->qiskit-aer) (1.13.3)\n",
      "Requirement already satisfied: dill>=0.3 in /opt/.qbraid/environments/qbraid_000000/pyenv/lib/python3.11/site-packages (from qiskit>=1.1.0->qiskit-aer) (0.3.9)\n",
      "Requirement already satisfied: python-dateutil>=2.8.0 in /opt/conda/lib/python3.11/site-packages (from qiskit>=1.1.0->qiskit-aer) (2.9.0)\n",
      "Requirement already satisfied: stevedore>=3.0.0 in /opt/.qbraid/environments/qbraid_000000/pyenv/lib/python3.11/site-packages (from qiskit>=1.1.0->qiskit-aer) (5.4.0)\n",
      "Requirement already satisfied: typing-extensions in /opt/conda/lib/python3.11/site-packages (from qiskit>=1.1.0->qiskit-aer) (4.12.2)\n",
      "Requirement already satisfied: symengine<0.14,>=0.11 in /opt/.qbraid/environments/qbraid_000000/pyenv/lib/python3.11/site-packages (from qiskit>=1.1.0->qiskit-aer) (0.13.0)\n",
      "Requirement already satisfied: six>=1.5 in /opt/conda/lib/python3.11/site-packages (from python-dateutil>=2.8.0->qiskit>=1.1.0->qiskit-aer) (1.16.0)\n",
      "Requirement already satisfied: pbr>=2.0.0 in /opt/.qbraid/environments/qbraid_000000/pyenv/lib/python3.11/site-packages (from stevedore>=3.0.0->qiskit>=1.1.0->qiskit-aer) (6.1.0)\n",
      "Requirement already satisfied: mpmath<1.4,>=1.1.0 in /opt/.qbraid/environments/qbraid_000000/pyenv/lib/python3.11/site-packages (from sympy>=1.3->qiskit>=1.1.0->qiskit-aer) (1.3.0)\n",
      "Note: you may need to restart the kernel to use updated packages.\n"
     ]
    }
   ],
   "source": [
    "%pip install qiskit-aer"
   ]
  },
  {
   "cell_type": "code",
   "execution_count": 132,
   "id": "a1d88c24-d763-486a-9a6d-321ea35b8c85",
   "metadata": {},
   "outputs": [],
   "source": [
    "from qiskit_ibm_runtime import QiskitRuntimeService, EstimatorV2 as Estimator"
   ]
  },
  {
   "cell_type": "code",
   "execution_count": 133,
   "id": "29337033-3af4-46c5-a6b4-af225a0d1f49",
   "metadata": {},
   "outputs": [],
   "source": [
    "from qiskit import QuantumCircuit, QuantumRegister"
   ]
  },
  {
   "cell_type": "code",
   "execution_count": 134,
   "id": "ccfc496e-c6e7-40ce-a668-62bc49b2d428",
   "metadata": {},
   "outputs": [],
   "source": [
    "from qiskit.quantum_info import SparsePauliOp"
   ]
  },
  {
   "cell_type": "code",
   "execution_count": 135,
   "id": "0dca15a5-d722-4508-a9e6-cc4c169a81a8",
   "metadata": {},
   "outputs": [],
   "source": [
    "from qiskit_aer.primitives import Estimator"
   ]
  },
  {
   "cell_type": "code",
   "execution_count": 136,
   "id": "a0049bb4-e3a0-4739-b514-f40b30b6380e",
   "metadata": {},
   "outputs": [],
   "source": [
    "qubits = QuantumRegister(2, name=\"q\")"
   ]
  },
  {
   "cell_type": "code",
   "execution_count": 137,
   "id": "f2742222-a53c-4a87-a7a9-29461d58a106",
   "metadata": {},
   "outputs": [],
   "source": [
    "circuit = QuantumCircuit(qubits)"
   ]
  },
  {
   "cell_type": "code",
   "execution_count": 138,
   "id": "c470b261-76b7-41a3-b9d5-535d63935a56",
   "metadata": {},
   "outputs": [],
   "source": [
    "q0, q1 = qubits"
   ]
  },
  {
   "cell_type": "code",
   "execution_count": 139,
   "id": "ca25d3fc-b2eb-466b-bedd-74b482d0ed7d",
   "metadata": {},
   "outputs": [
    {
     "data": {
      "text/plain": [
       "<qiskit.circuit.instructionset.InstructionSet at 0x7cef73a94850>"
      ]
     },
     "execution_count": 139,
     "metadata": {},
     "output_type": "execute_result"
    }
   ],
   "source": [
    "# Create the First Bell State\n",
    "# Replace the ?\n",
    "circuit.h(q0)\n",
    "circuit.cx(q0, q1)"
   ]
  },
  {
   "cell_type": "code",
   "execution_count": 140,
   "id": "227440cd-458b-4f4a-b8a6-54df5892dc71",
   "metadata": {},
   "outputs": [],
   "source": [
    "observable = SparsePauliOp(\"ZZ\")"
   ]
  },
  {
   "cell_type": "code",
   "execution_count": 141,
   "id": "64adfb6c-4647-470f-a270-a31a0f522d5f",
   "metadata": {},
   "outputs": [],
   "source": [
    "estimator = Estimator()"
   ]
  },
  {
   "cell_type": "code",
   "execution_count": 142,
   "id": "54e8a90b-4e51-4ce4-9562-c3e54180fe7f",
   "metadata": {},
   "outputs": [
    {
     "name": "stdout",
     "output_type": "stream",
     "text": [
      "Exact Expectation Value: 1.0\n"
     ]
    }
   ],
   "source": [
    "# Replace the ?\n",
    "job = estimator.run([circuit], [observable])\n",
    "exact_value = job.result().values[0]\n",
    "print(f\"Exact Expectation Value: {exact_value}\")"
   ]
  },
  {
   "cell_type": "code",
   "execution_count": 143,
   "id": "dd1a4ef5-c593-47cf-b20a-78863b9487fd",
   "metadata": {},
   "outputs": [
    {
     "data": {
      "image/png": "[encoded data removed]",
      "text/plain": [
       "<Figure size 287.294x200.667 with 1 Axes>"
      ]
     },
     "execution_count": 143,
     "metadata": {},
     "output_type": "execute_result"
    }
   ],
   "source": [
    "circuit.draw(\"mpl\")"
   ]
  },
  {
   "cell_type": "markdown",
   "id": "98e8c0d5-c196-4617-89ec-7e4244eb9e4b",
   "metadata": {},
   "source": [
    "# Build a Noise Model"
   ]
  },
  {
   "cell_type": "markdown",
   "id": "f3979814-54b5-41de-a748-64b1682318a9",
   "metadata": {},
   "source": [
    "### From Real Backend"
   ]
  },
  {
   "cell_type": "code",
   "execution_count": 144,
   "id": "ff3b2b36-12d0-4bfa-8de7-0ab745244846",
   "metadata": {},
   "outputs": [],
   "source": [
    "from qiskit_aer.noise import NoiseModel"
   ]
  },
  {
   "cell_type": "code",
   "execution_count": 145,
   "id": "1520a9a0-3a75-48e6-8656-e0aa831f9a4f",
   "metadata": {},
   "outputs": [],
   "source": [
    "from qiskit_aer.primitives import Estimator"
   ]
  },
  {
   "cell_type": "code",
   "execution_count": 146,
   "id": "a73cc3a9-860c-488a-b3c6-8040f45b6a88",
   "metadata": {},
   "outputs": [],
   "source": [
    "from qiskit_ibm_runtime import QiskitRuntimeService"
   ]
  },
  {
   "cell_type": "code",
   "execution_count": 147,
   "id": "0ece35ac-e83b-4dc5-b393-9a960fd698cf",
   "metadata": {},
   "outputs": [],
   "source": [
    "from qiskit_ibm_runtime import QiskitRuntimeService\n",
    "\n",
    "service = QiskitRuntimeService(\n",
    "    channel='ibm_quantum',\n",
    "    instance='ibm-q/open/main',\n",
    "    token='ca510ffa26e7cab3a62660e5dfc40269bcec1b1e369333737ff46892bc37b489d6538948eac6fd55a43f7370435debcd36da4cb6a88348ed62279f1fffbd635a'\n",
    ")"
   ]
  },
  {
   "cell_type": "code",
   "execution_count": 148,
   "id": "67e0a21e-de5b-49c6-8d39-090a0cf515e0",
   "metadata": {},
   "outputs": [],
   "source": [
    "backend = service.backend(\"ibm_sherbrooke\")"
   ]
  },
  {
   "cell_type": "code",
   "execution_count": 149,
   "id": "ea1273a3-41f5-4b0c-b5a8-ad5832587b8d",
   "metadata": {},
   "outputs": [],
   "source": [
    "# Replace the ?\n",
    "noise_model = NoiseModel.from_backend(backend)"
   ]
  },
  {
   "cell_type": "code",
   "execution_count": 150,
   "id": "fce5f7fb-4582-4790-982c-23d80f9038de",
   "metadata": {},
   "outputs": [],
   "source": [
    "# Replace the ?\n",
    "estimator = Estimator(backend_options=dict(noise_model=noise_model))"
   ]
  },
  {
   "cell_type": "code",
   "execution_count": 151,
   "id": "b68f29a8-c7d2-4654-85b9-3683c2ede417",
   "metadata": {},
   "outputs": [
    {
     "name": "stdout",
     "output_type": "stream",
     "text": [
      "<qiskit_aer.primitives.estimator.Estimator object at 0x7cef704e8890> NoiseModel:\n",
      "  Basis gates: ['delay', 'ecr', 'for_loop', 'id', 'if_else', 'measure', 'reset', 'rz', 'switch_case', 'sx', 'x']\n",
      "  Instructions with noise: ['x', 'ecr', 'sx', 'id', 'measure', 'reset']\n",
      "  Qubits with noise: [0, 1, 2, 3, 4, 5, 6, 7, 8, 9, 10, 11, 12, 13, 14, 15, 16, 17, 18, 19, 20, 21, 22, 23, 24, 25, 26, 27, 28, 29, 30, 31, 32, 33, 34, 35, 36, 37, 38, 39, 40, 41, 42, 43, 44, 45, 46, 47, 48, 49, 50, 51, 52, 53, 54, 55, 56, 57, 58, 59, 60, 61, 62, 63, 64, 65, 66, 67, 68, 69, 70, 71, 72, 73, 74, 75, 76, 77, 78, 79, 80, 81, 82, 83, 84, 85, 86, 87, 88, 89, 90, 91, 92, 93, 94, 95, 96, 97, 98, 99, 100, 101, 102, 103, 104, 105, 106, 107, 108, 109, 110, 111, 112, 113, 114, 115, 116, 117, 118, 119, 120, 121, 122, 123, 124, 125, 126]\n",
      "  Specific qubit errors: [('x', (0,)), ('x', (1,)), ('x', (2,)), ('x', (3,)), ('x', (4,)), ('x', (5,)), ('x', (6,)), ('x', (7,)), ('x', (8,)), ('x', (9,)), ('x', (10,)), ('x', (11,)), ('x', (12,)), ('x', (13,)), ('x', (14,)), ('x', (15,)), ('x', (16,)), ('x', (17,)), ('x', (18,)), ('x', (19,)), ('x', (20,)), ('x', (21,)), ('x', (22,)), ('x', (23,)), ('x', (24,)), ('x', (25,)), ('x', (26,)), ('x', (27,)), ('x', (28,)), ('x', (29,)), ('x', (30,)), ('x', (31,)), ('x', (32,)), ('x', (33,)), ('x', (34,)), ('x', (35,)), ('x', (36,)), ('x', (37,)), ('x', (38,)), ('x', (39,)), ('x', (40,)), ('x', (41,)), ('x', (42,)), ('x', (43,)), ('x', (44,)), ('x', (45,)), ('x', (46,)), ('x', (47,)), ('x', (48,)), ('x', (49,)), ('x', (50,)), ('x', (51,)), ('x', (52,)), ('x', (53,)), ('x', (54,)), ('x', (55,)), ('x', (56,)), ('x', (57,)), ('x', (58,)), ('x', (59,)), ('x', (60,)), ('x', (61,)), ('x', (62,)), ('x', (63,)), ('x', (64,)), ('x', (65,)), ('x', (66,)), ('x', (67,)), ('x', (68,)), ('x', (69,)), ('x', (70,)), ('x', (71,)), ('x', (72,)), ('x', (73,)), ('x', (74,)), ('x', (75,)), ('x', (76,)), ('x', (77,)), ('x', (78,)), ('x', (79,)), ('x', (80,)), ('x', (81,)), ('x', (82,)), ('x', (83,)), ('x', (84,)), ('x', (85,)), ('x', (86,)), ('x', (87,)), ('x', (88,)), ('x', (89,)), ('x', (90,)), ('x', (91,)), ('x', (92,)), ('x', (93,)), ('x', (94,)), ('x', (95,)), ('x', (96,)), ('x', (97,)), ('x', (98,)), ('x', (99,)), ('x', (100,)), ('x', (101,)), ('x', (102,)), ('x', (103,)), ('x', (104,)), ('x', (105,)), ('x', (106,)), ('x', (107,)), ('x', (108,)), ('x', (109,)), ('x', (110,)), ('x', (111,)), ('x', (112,)), ('x', (113,)), ('x', (114,)), ('x', (115,)), ('x', (116,)), ('x', (117,)), ('x', (118,)), ('x', (119,)), ('x', (120,)), ('x', (121,)), ('x', (122,)), ('x', (123,)), ('x', (124,)), ('x', (125,)), ('x', (126,)), ('ecr', (1, 0)), ('ecr', (1, 2)), ('ecr', (3, 2)), ('ecr', (4, 3)), ('ecr', (4, 15)), ('ecr', (5, 4)), ('ecr', (6, 5)), ('ecr', (7, 6)), ('ecr', (7, 8)), ('ecr', (8, 9)), ('ecr', (10, 9)), ('ecr', (10, 11)), ('ecr', (11, 12)), ('ecr', (12, 13)), ('ecr', (14, 0)), ('ecr', (14, 18)), ('ecr', (16, 8)), ('ecr', (17, 12)), ('ecr', (17, 30)), ('ecr', (18, 19)), ('ecr', (19, 20)), ('ecr', (20, 33)), ('ecr', (21, 20)), ('ecr', (21, 22)), ('ecr', (22, 15)), ('ecr', (23, 22)), ('ecr', (23, 24)), ('ecr', (25, 24)), ('ecr', (26, 16)), ('ecr', (26, 25)), ('ecr', (26, 27)), ('ecr', (28, 27)), ('ecr', (29, 28)), ('ecr', (29, 30)), ('ecr', (31, 30)), ('ecr', (31, 32)), ('ecr', (32, 36)), ('ecr', (33, 39)), ('ecr', (34, 24)), ('ecr', (35, 28)), ('ecr', (35, 47)), ('ecr', (36, 51)), ('ecr', (37, 38)), ('ecr', (38, 39)), ('ecr', (40, 39)), ('ecr', (41, 40)), ('ecr', (41, 53)), ('ecr', (42, 41)), ('ecr', (43, 34)), ('ecr', (43, 42)), ('ecr', (43, 44)), ('ecr', (45, 44)), ('ecr', (45, 46)), ('ecr', (47, 46)), ('ecr', (47, 48)), ('ecr', (49, 48)), ('ecr', (49, 50)), ('ecr', (50, 51)), ('ecr', (52, 37)), ('ecr', (53, 60)), ('ecr', (54, 45)), ('ecr', (55, 49)), ('ecr', (56, 52)), ('ecr', (56, 57)), ('ecr', (57, 58)), ('ecr', (59, 58)), ('ecr', (59, 60)), ('ecr', (61, 60)), ('ecr', (61, 62)), ('ecr', (63, 62)), ('ecr', (63, 64)), ('ecr', (64, 54)), ('ecr', (64, 65)), ('ecr', (66, 65)), ('ecr', (67, 66)), ('ecr', (68, 55)), ('ecr', (68, 67)), ('ecr', (69, 68)), ('ecr', (69, 70)), ('ecr', (71, 58)), ('ecr', (71, 77)), ('ecr', (72, 62)), ('ecr', (73, 66)), ('ecr', (73, 85)), ('ecr', (74, 70)), ('ecr', (75, 76)), ('ecr', (77, 76)), ('ecr', (78, 77)), ('ecr', (78, 79)), ('ecr', (79, 91)), ('ecr', (80, 79)), ('ecr', (80, 81)), ('ecr', (81, 72)), ('ecr', (81, 82)), ('ecr', (82, 83)), ('ecr', (83, 84)), ('ecr', (85, 84)), ('ecr', (86, 85)), ('ecr', (86, 87)), ('ecr', (87, 88)), ('ecr', (89, 74)), ('ecr', (89, 88)), ('ecr', (90, 75)), ('ecr', (90, 94)), ('ecr', (92, 83)), ('ecr', (92, 102)), ('ecr', (93, 87)), ('ecr', (93, 106)), ('ecr', (95, 94)), ('ecr', (95, 96)), ('ecr', (97, 96)), ('ecr', (97, 98)), ('ecr', (98, 91)), ('ecr', (99, 98)), ('ecr', (99, 100)), ('ecr', (101, 100)), ('ecr', (101, 102)), ('ecr', (102, 103)), ('ecr', (104, 103)), ('ecr', (105, 104)), ('ecr', (106, 105)), ('ecr', (107, 106)), ('ecr', (107, 108)), ('ecr', (109, 96)), ('ecr', (110, 100)), ('ecr', (110, 118)), ('ecr', (111, 104)), ('ecr', (112, 108)), ('ecr', (112, 126)), ('ecr', (113, 114)), ('ecr', (114, 109)), ('ecr', (114, 115)), ('ecr', (116, 115)), ('ecr', (117, 116)), ('ecr', (117, 118)), ('ecr', (119, 118)), ('ecr', (119, 120)), ('ecr', (120, 121)), ('ecr', (121, 122)), ('ecr', (122, 111)), ('ecr', (123, 122)), ('ecr', (124, 123)), ('ecr', (125, 124)), ('ecr', (126, 125)), ('sx', (0,)), ('sx', (1,)), ('sx', (2,)), ('sx', (3,)), ('sx', (4,)), ('sx', (5,)), ('sx', (6,)), ('sx', (7,)), ('sx', (8,)), ('sx', (9,)), ('sx', (10,)), ('sx', (11,)), ('sx', (12,)), ('sx', (13,)), ('sx', (14,)), ('sx', (15,)), ('sx', (16,)), ('sx', (17,)), ('sx', (18,)), ('sx', (19,)), ('sx', (20,)), ('sx', (21,)), ('sx', (22,)), ('sx', (23,)), ('sx', (24,)), ('sx', (25,)), ('sx', (26,)), ('sx', (27,)), ('sx', (28,)), ('sx', (29,)), ('sx', (30,)), ('sx', (31,)), ('sx', (32,)), ('sx', (33,)), ('sx', (34,)), ('sx', (35,)), ('sx', (36,)), ('sx', (37,)), ('sx', (38,)), ('sx', (39,)), ('sx', (40,)), ('sx', (41,)), ('sx', (42,)), ('sx', (43,)), ('sx', (44,)), ('sx', (45,)), ('sx', (46,)), ('sx', (47,)), ('sx', (48,)), ('sx', (49,)), ('sx', (50,)), ('sx', (51,)), ('sx', (52,)), ('sx', (53,)), ('sx', (54,)), ('sx', (55,)), ('sx', (56,)), ('sx', (57,)), ('sx', (58,)), ('sx', (59,)), ('sx', (60,)), ('sx', (61,)), ('sx', (62,)), ('sx', (63,)), ('sx', (64,)), ('sx', (65,)), ('sx', (66,)), ('sx', (67,)), ('sx', (68,)), ('sx', (69,)), ('sx', (70,)), ('sx', (71,)), ('sx', (72,)), ('sx', (73,)), ('sx', (74,)), ('sx', (75,)), ('sx', (76,)), ('sx', (77,)), ('sx', (78,)), ('sx', (79,)), ('sx', (80,)), ('sx', (81,)), ('sx', (82,)), ('sx', (83,)), ('sx', (84,)), ('sx', (85,)), ('sx', (86,)), ('sx', (87,)), ('sx', (88,)), ('sx', (89,)), ('sx', (90,)), ('sx', (91,)), ('sx', (92,)), ('sx', (93,)), ('sx', (94,)), ('sx', (95,)), ('sx', (96,)), ('sx', (97,)), ('sx', (98,)), ('sx', (99,)), ('sx', (100,)), ('sx', (101,)), ('sx', (102,)), ('sx', (103,)), ('sx', (104,)), ('sx', (105,)), ('sx', (106,)), ('sx', (107,)), ('sx', (108,)), ('sx', (109,)), ('sx', (110,)), ('sx', (111,)), ('sx', (112,)), ('sx', (113,)), ('sx', (114,)), ('sx', (115,)), ('sx', (116,)), ('sx', (117,)), ('sx', (118,)), ('sx', (119,)), ('sx', (120,)), ('sx', (121,)), ('sx', (122,)), ('sx', (123,)), ('sx', (124,)), ('sx', (125,)), ('sx', (126,)), ('id', (0,)), ('id', (1,)), ('id', (2,)), ('id', (3,)), ('id', (4,)), ('id', (5,)), ('id', (6,)), ('id', (7,)), ('id', (8,)), ('id', (9,)), ('id', (10,)), ('id', (11,)), ('id', (12,)), ('id', (13,)), ('id', (14,)), ('id', (15,)), ('id', (16,)), ('id', (17,)), ('id', (18,)), ('id', (19,)), ('id', (20,)), ('id', (21,)), ('id', (22,)), ('id', (23,)), ('id', (24,)), ('id', (25,)), ('id', (26,)), ('id', (27,)), ('id', (28,)), ('id', (29,)), ('id', (30,)), ('id', (31,)), ('id', (32,)), ('id', (33,)), ('id', (34,)), ('id', (35,)), ('id', (36,)), ('id', (37,)), ('id', (38,)), ('id', (39,)), ('id', (40,)), ('id', (41,)), ('id', (42,)), ('id', (43,)), ('id', (44,)), ('id', (45,)), ('id', (46,)), ('id', (47,)), ('id', (48,)), ('id', (49,)), ('id', (50,)), ('id', (51,)), ('id', (52,)), ('id', (53,)), ('id', (54,)), ('id', (55,)), ('id', (56,)), ('id', (57,)), ('id', (58,)), ('id', (59,)), ('id', (60,)), ('id', (61,)), ('id', (62,)), ('id', (63,)), ('id', (64,)), ('id', (65,)), ('id', (66,)), ('id', (67,)), ('id', (68,)), ('id', (69,)), ('id', (70,)), ('id', (71,)), ('id', (72,)), ('id', (73,)), ('id', (74,)), ('id', (75,)), ('id', (76,)), ('id', (77,)), ('id', (78,)), ('id', (79,)), ('id', (80,)), ('id', (81,)), ('id', (82,)), ('id', (83,)), ('id', (84,)), ('id', (85,)), ('id', (86,)), ('id', (87,)), ('id', (88,)), ('id', (89,)), ('id', (90,)), ('id', (91,)), ('id', (92,)), ('id', (93,)), ('id', (94,)), ('id', (95,)), ('id', (96,)), ('id', (97,)), ('id', (98,)), ('id', (99,)), ('id', (100,)), ('id', (101,)), ('id', (102,)), ('id', (103,)), ('id', (104,)), ('id', (105,)), ('id', (106,)), ('id', (107,)), ('id', (108,)), ('id', (109,)), ('id', (110,)), ('id', (111,)), ('id', (112,)), ('id', (113,)), ('id', (114,)), ('id', (115,)), ('id', (116,)), ('id', (117,)), ('id', (118,)), ('id', (119,)), ('id', (120,)), ('id', (121,)), ('id', (122,)), ('id', (123,)), ('id', (124,)), ('id', (125,)), ('id', (126,)), ('reset', (0,)), ('reset', (1,)), ('reset', (2,)), ('reset', (3,)), ('reset', (4,)), ('reset', (5,)), ('reset', (6,)), ('reset', (7,)), ('reset', (8,)), ('reset', (9,)), ('reset', (10,)), ('reset', (11,)), ('reset', (12,)), ('reset', (13,)), ('reset', (14,)), ('reset', (15,)), ('reset', (16,)), ('reset', (17,)), ('reset', (18,)), ('reset', (19,)), ('reset', (20,)), ('reset', (21,)), ('reset', (22,)), ('reset', (23,)), ('reset', (24,)), ('reset', (25,)), ('reset', (26,)), ('reset', (27,)), ('reset', (28,)), ('reset', (29,)), ('reset', (30,)), ('reset', (31,)), ('reset', (32,)), ('reset', (33,)), ('reset', (34,)), ('reset', (35,)), ('reset', (36,)), ('reset', (37,)), ('reset', (38,)), ('reset', (39,)), ('reset', (40,)), ('reset', (41,)), ('reset', (42,)), ('reset', (43,)), ('reset', (44,)), ('reset', (45,)), ('reset', (46,)), ('reset', (47,)), ('reset', (48,)), ('reset', (49,)), ('reset', (50,)), ('reset', (51,)), ('reset', (52,)), ('reset', (53,)), ('reset', (54,)), ('reset', (55,)), ('reset', (56,)), ('reset', (57,)), ('reset', (58,)), ('reset', (59,)), ('reset', (60,)), ('reset', (61,)), ('reset', (62,)), ('reset', (63,)), ('reset', (64,)), ('reset', (65,)), ('reset', (66,)), ('reset', (67,)), ('reset', (68,)), ('reset', (69,)), ('reset', (70,)), ('reset', (71,)), ('reset', (72,)), ('reset', (73,)), ('reset', (74,)), ('reset', (75,)), ('reset', (76,)), ('reset', (77,)), ('reset', (78,)), ('reset', (79,)), ('reset', (80,)), ('reset', (81,)), ('reset', (82,)), ('reset', (83,)), ('reset', (84,)), ('reset', (85,)), ('reset', (86,)), ('reset', (87,)), ('reset', (88,)), ('reset', (89,)), ('reset', (90,)), ('reset', (91,)), ('reset', (92,)), ('reset', (93,)), ('reset', (94,)), ('reset', (95,)), ('reset', (96,)), ('reset', (97,)), ('reset', (98,)), ('reset', (99,)), ('reset', (100,)), ('reset', (101,)), ('reset', (102,)), ('reset', (103,)), ('reset', (104,)), ('reset', (105,)), ('reset', (106,)), ('reset', (107,)), ('reset', (108,)), ('reset', (109,)), ('reset', (110,)), ('reset', (111,)), ('reset', (112,)), ('reset', (113,)), ('reset', (114,)), ('reset', (115,)), ('reset', (116,)), ('reset', (117,)), ('reset', (118,)), ('reset', (119,)), ('reset', (120,)), ('reset', (121,)), ('reset', (122,)), ('reset', (123,)), ('reset', (124,)), ('reset', (125,)), ('reset', (126,)), ('measure', (0,)), ('measure', (1,)), ('measure', (2,)), ('measure', (3,)), ('measure', (4,)), ('measure', (5,)), ('measure', (6,)), ('measure', (7,)), ('measure', (8,)), ('measure', (9,)), ('measure', (10,)), ('measure', (11,)), ('measure', (12,)), ('measure', (13,)), ('measure', (14,)), ('measure', (15,)), ('measure', (16,)), ('measure', (17,)), ('measure', (18,)), ('measure', (19,)), ('measure', (20,)), ('measure', (21,)), ('measure', (22,)), ('measure', (23,)), ('measure', (24,)), ('measure', (25,)), ('measure', (26,)), ('measure', (27,)), ('measure', (28,)), ('measure', (29,)), ('measure', (30,)), ('measure', (31,)), ('measure', (32,)), ('measure', (33,)), ('measure', (34,)), ('measure', (35,)), ('measure', (36,)), ('measure', (37,)), ('measure', (38,)), ('measure', (39,)), ('measure', (40,)), ('measure', (41,)), ('measure', (42,)), ('measure', (43,)), ('measure', (44,)), ('measure', (45,)), ('measure', (46,)), ('measure', (47,)), ('measure', (48,)), ('measure', (49,)), ('measure', (50,)), ('measure', (51,)), ('measure', (52,)), ('measure', (53,)), ('measure', (54,)), ('measure', (55,)), ('measure', (56,)), ('measure', (57,)), ('measure', (58,)), ('measure', (59,)), ('measure', (60,)), ('measure', (61,)), ('measure', (62,)), ('measure', (63,)), ('measure', (64,)), ('measure', (65,)), ('measure', (66,)), ('measure', (67,)), ('measure', (68,)), ('measure', (69,)), ('measure', (70,)), ('measure', (71,)), ('measure', (72,)), ('measure', (73,)), ('measure', (74,)), ('measure', (75,)), ('measure', (76,)), ('measure', (77,)), ('measure', (78,)), ('measure', (79,)), ('measure', (80,)), ('measure', (81,)), ('measure', (82,)), ('measure', (83,)), ('measure', (84,)), ('measure', (85,)), ('measure', (86,)), ('measure', (87,)), ('measure', (88,)), ('measure', (89,)), ('measure', (90,)), ('measure', (91,)), ('measure', (92,)), ('measure', (93,)), ('measure', (94,)), ('measure', (95,)), ('measure', (96,)), ('measure', (97,)), ('measure', (98,)), ('measure', (99,)), ('measure', (100,)), ('measure', (101,)), ('measure', (102,)), ('measure', (103,)), ('measure', (104,)), ('measure', (105,)), ('measure', (106,)), ('measure', (107,)), ('measure', (108,)), ('measure', (109,)), ('measure', (110,)), ('measure', (111,)), ('measure', (112,)), ('measure', (113,)), ('measure', (114,)), ('measure', (115,)), ('measure', (116,)), ('measure', (117,)), ('measure', (118,)), ('measure', (119,)), ('measure', (120,)), ('measure', (121,)), ('measure', (122,)), ('measure', (123,)), ('measure', (124,)), ('measure', (125,)), ('measure', (126,))]\n"
     ]
    }
   ],
   "source": [
    "print(estimator,noise_model)"
   ]
  },
  {
   "cell_type": "markdown",
   "id": "8abfa215-9334-4eb2-859d-5157856ec14f",
   "metadata": {},
   "source": [
    "### From scratch"
   ]
  },
  {
   "cell_type": "code",
   "execution_count": 152,
   "id": "db502811-f3bd-466f-b670-4b7390a78e25",
   "metadata": {},
   "outputs": [],
   "source": [
    "from qiskit_aer.noise import ReadoutError, depolarizing_error"
   ]
  },
  {
   "cell_type": "code",
   "execution_count": 153,
   "id": "ca975062-4957-490c-ba48-4c41f953c7b3",
   "metadata": {},
   "outputs": [],
   "source": [
    "noise_model = NoiseModel()"
   ]
  },
  {
   "cell_type": "code",
   "execution_count": 154,
   "id": "9623f5c2-8a42-4a2d-af06-33aef4651050",
   "metadata": {},
   "outputs": [],
   "source": [
    "cx_depolarizing_prob = 0.02"
   ]
  },
  {
   "cell_type": "code",
   "execution_count": 155,
   "id": "0c7236bb-3b1e-4f5a-9f7f-d4c30eaf2c9d",
   "metadata": {},
   "outputs": [],
   "source": [
    "bit_flip_prob = 0.05"
   ]
  },
  {
   "cell_type": "code",
   "execution_count": 156,
   "id": "dbe7c28f-61a0-4be2-9777-facb60a6d8bd",
   "metadata": {},
   "outputs": [],
   "source": [
    "# Replace the ?\n",
    "noise_model.add_all_qubit_quantum_error(\n",
    "    depolarizing_error(cx_depolarizing_prob, 2), [\"cx\"]\n",
    ")"
   ]
  },
  {
   "cell_type": "code",
   "execution_count": 157,
   "id": "5915d62f-61a9-4c8e-95c1-1f752cd536be",
   "metadata": {},
   "outputs": [],
   "source": [
    "# Replace the ?\n",
    "noise_model.add_all_qubit_readout_error(\n",
    "    ReadoutError(\n",
    "        [\n",
    "            [1 - bit_flip_prob, bit_flip_prob],\n",
    "            [bit_flip_prob, 1 - bit_flip_prob],\n",
    "        ]\n",
    "    )\n",
    ")"
   ]
  },
  {
   "cell_type": "code",
   "execution_count": 158,
   "id": "c7009b5d-d25c-46f1-97de-faa7e331427d",
   "metadata": {},
   "outputs": [
    {
     "data": {
      "text/plain": [
       "ReadoutError([[0.95 0.05]\n",
       " [0.1  0.9 ]])"
      ]
     },
     "execution_count": 158,
     "metadata": {},
     "output_type": "execute_result"
    }
   ],
   "source": [
    "##### A readable interpretation of the previous cell:\n",
    "##### Measurement misassignment probabilities\n",
    "p0given1 = 0.1\n",
    "p1given0 = 0.05\n",
    "ReadoutError([[1 - p1given0, p1given0], [p0given1, 1 - p0given1]])"
   ]
  },
  {
   "cell_type": "markdown",
   "id": "07a5accb-577f-4d26-9e1a-0985b460406b",
   "metadata": {},
   "source": [
    "# Run a Circuit"
   ]
  },
  {
   "cell_type": "code",
   "execution_count": 160,
   "id": "e2cca4ed-d868-43ec-8266-355e6fcee0f3",
   "metadata": {},
   "outputs": [
    {
     "ename": "AttributeError",
     "evalue": "'PrimitiveResult' object has no attribute 'values'",
     "output_type": "error",
     "traceback": [
      "\u001b[0;31m---------------------------------------------------------------------------\u001b[0m",
      "\u001b[0;31mAttributeError\u001b[0m                            Traceback (most recent call last)",
      "Cell \u001b[0;32mIn[160], line 38\u001b[0m\n\u001b[1;32m     35\u001b[0m     result \u001b[38;5;241m=\u001b[39m job\u001b[38;5;241m.\u001b[39mresult()\n\u001b[1;32m     37\u001b[0m \u001b[38;5;66;03m# Print the result\u001b[39;00m\n\u001b[0;32m---> 38\u001b[0m \u001b[38;5;28mprint\u001b[39m(\u001b[38;5;124mf\u001b[39m\u001b[38;5;124m\"\u001b[39m\u001b[38;5;124m > Expectation value: \u001b[39m\u001b[38;5;132;01m{\u001b[39;00m\u001b[43mresult\u001b[49m\u001b[38;5;241;43m.\u001b[39;49m\u001b[43mvalues\u001b[49m[\u001b[38;5;241m0\u001b[39m]\u001b[38;5;132;01m}\u001b[39;00m\u001b[38;5;124m\"\u001b[39m)\n\u001b[1;32m     39\u001b[0m \u001b[38;5;28mprint\u001b[39m(\u001b[38;5;124mf\u001b[39m\u001b[38;5;124m\"\u001b[39m\u001b[38;5;124m > Metadata: \u001b[39m\u001b[38;5;132;01m{\u001b[39;00mresult\u001b[38;5;241m.\u001b[39mmetadata\u001b[38;5;132;01m}\u001b[39;00m\u001b[38;5;124m\"\u001b[39m)\n\u001b[1;32m     41\u001b[0m job \u001b[38;5;241m=\u001b[39m estimator\u001b[38;5;241m.\u001b[39mrun([(isa_circuit, isa_observable)])\n",
      "\u001b[0;31mAttributeError\u001b[0m: 'PrimitiveResult' object has no attribute 'values'"
     ]
    }
   ],
   "source": [
    "import numpy as np\n",
    "from qiskit.circuit.library import IQP\n",
    "from qiskit.transpiler.preset_passmanagers import generate_preset_pass_manager\n",
    "from qiskit.quantum_info import SparsePauliOp, random_hermitian\n",
    "from qiskit_ibm_runtime import QiskitRuntimeService, EstimatorV2, Session\n",
    "\n",
    "n_qubits = 7\n",
    "\n",
    "# Initialize Qiskit Runtime Service\n",
    "service = QiskitRuntimeService(\n",
    "    channel='ibm_quantum',\n",
    "    instance='ibm-q/open/main',\n",
    "    token='ca510ffa26e7cab3a62660e5dfc40269bcec1b1e369333737ff46892bc37b489d6538948eac6fd55a43f7370435debcd36da4cb6a88348ed62279f1fffbd635a'\n",
    ")\n",
    "\n",
    "# Select the least busy backend that meets the requirements\n",
    "backend = service.least_busy(operational=True, simulator=False, min_num_qubits=n_qubits)\n",
    "\n",
    "# Generate a random Hermitian matrix and construct the IQP circuit\n",
    "mat = np.real(random_hermitian(n_qubits, seed=1234))\n",
    "circuit = IQP(mat)\n",
    "\n",
    "# Create the observable\n",
    "observable = SparsePauliOp(\"Z\" * n_qubits)\n",
    "\n",
    "# Transpile the circuit for the specific backend\n",
    "pm = generate_preset_pass_manager(backend=backend, optimization_level=1)\n",
    "isa_circuit = pm.run(circuit)\n",
    "isa_observable = observable.apply_layout(isa_circuit.layout)\n",
    "\n",
    "# Use a session with the selected backend\n",
    "with Session(backend=backend) as session:\n",
    "    estimator = EstimatorV2()\n",
    "    job = estimator.run([(isa_circuit, isa_observable)])\n",
    "    result = job.result()\n",
    "\n",
    "# Print the result\n",
    "print(f\" > Expectation value: {result.values[0]}\")\n",
    "print(f\" > Metadata: {result.metadata}\")\n",
    "\n",
    "job = estimator.run([(isa_circuit, isa_observable)])\n",
    "result = job.result()\n",
    " \n",
    "print(f\" > Expectation value: {result.data.evs}\")\n",
    "print(f\" > Metadata: {result.metadata}\")\n"
   ]
  },
  {
   "cell_type": "markdown",
   "id": "9a9248f4-d36d-4d71-b7c1-d4f7a1b14dcf",
   "metadata": {},
   "source": [
    "# End of Notebook\n",
    "### Author\n",
    "Gaius Ocatvianus Augustus"
   ]
  }
 ],
 "metadata": {
  "kernelspec": {
   "display_name": "Python 3 [Default]",
   "language": "python",
   "name": "python3"
  },
  "language_info": {
   "codemirror_mode": {
    "name": "ipython",
    "version": 3
   },
   "file_extension": ".py",
   "mimetype": "text/x-python",
   "name": "python",
   "nbconvert_exporter": "python",
   "pygments_lexer": "ipython3",
   "version": "3.11.9"
  }
 },
 "nbformat": 4,
 "nbformat_minor": 5
}
